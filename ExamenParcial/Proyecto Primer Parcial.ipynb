{
 "cells": [
  {
   "cell_type": "markdown",
   "metadata": {},
   "source": [
    "# Proyecto de machine learning (Tópicos en IA 2022-02)"
   ]
  },
  {
   "cell_type": "markdown",
   "metadata": {},
   "source": [
    "## Pasos para el proyecto\n",
    "- Encuadre el problema y mire el panorama general.\n",
    "- Obtener los datos.\n",
    "- Explorar los datos para obtener perspectivas.\n",
    "- Prepare los datos para exponer mejor los patrones de datos subyacentes a los algoritmos de aprendizaje automático.\n",
    "- Explore muchos modelos diferentes y haga una lista corta de los mejores.\n",
    "- Ajuste sus modelos y combínelos en una gran solución.\n",
    "- Presente su solución.\n",
    "- Lanze, monitoree y mantenga su sistema"
   ]
  },
  {
   "cell_type": "markdown",
   "metadata": {},
   "source": [
    "# 1) Encuadre del problema y panorama general  \n",
    "El el presente proyecto de inteligencia artificial se analizará el dataset `desercion.csv` que contiene información de alumnos que desertan o no de la universidad. El objetivo de este proyecto es crear un predictor basado en aprendizaje máquina para predecir si un alumno desertará o no de la universidad basándonos en datos concretos.  \n",
    "Las soluciones que utilizaremos serán diferentes modelos de clasificación para esta tarea, la siguiente tarea hace uso de algoritmos supervisados. Para medir que tan acertado sea el modelo que utilizaremos, se aplicarán diferentes métricas de clasificación que se explicarán más adelante."
   ]
  },
  {
   "cell_type": "markdown",
   "metadata": {},
   "source": [
    "# 2) Obteniendo los datos"
   ]
  },
  {
   "cell_type": "code",
   "execution_count": 1,
   "metadata": {},
   "outputs": [],
   "source": [
    "# ALgunas configuraciones preliminares\n",
    "# To support both python 2 and python 3\n",
    "from __future__ import division, print_function, unicode_literals\n",
    "\n",
    "# Common imports\n",
    "import numpy as np\n",
    "import os\n",
    "\n",
    "# to make this notebook's output stable across runs\n",
    "np.random.seed(42)\n",
    "\n",
    "# To plot pretty figures\n",
    "%matplotlib inline\n",
    "import matplotlib\n",
    "import matplotlib.pyplot as plt\n",
    "plt.rcParams['axes.labelsize'] = 14\n",
    "plt.rcParams['xtick.labelsize'] = 12\n",
    "plt.rcParams['ytick.labelsize'] = 12\n",
    "\n",
    "# Where to save the figures\n",
    "PROJECT_ROOT_DIR = \".\"\n",
    "CHAPTER_ID = \"proyecto_parcial_I\"\n",
    "IMAGES_PATH = os.path.join(PROJECT_ROOT_DIR, \"images\", CHAPTER_ID)\n",
    "\n",
    "def save_fig(fig_id, tight_layout=True, fig_extension=\"png\", resolution=300):\n",
    "    path = os.path.join(IMAGES_PATH, fig_id + \".\" + fig_extension)\n",
    "    print(\"Saving figure\", fig_id)\n",
    "    if tight_layout:\n",
    "        plt.tight_layout()\n",
    "    plt.savefig(path, format=fig_extension, dpi=resolution)\n",
    "\n",
    "# Ignore useless warnings (see SciPy issue #5998)\n",
    "import warnings\n",
    "warnings.filterwarnings(action=\"ignore\", module=\"scipy\", message=\"^internal gelsd\")"
   ]
  },
  {
   "cell_type": "code",
   "execution_count": 2,
   "metadata": {},
   "outputs": [],
   "source": [
    "import pandas as pd\n",
    "\n",
    "def load_desercion_data(csv_path=\"./datasets/datos_desercion.csv\"):\n",
    "    return pd.read_csv(csv_path)"
   ]
  },
  {
   "cell_type": "code",
   "execution_count": 3,
   "metadata": {},
   "outputs": [
    {
     "data": {
      "text/html": [
       "<div>\n",
       "<style scoped>\n",
       "    .dataframe tbody tr th:only-of-type {\n",
       "        vertical-align: middle;\n",
       "    }\n",
       "\n",
       "    .dataframe tbody tr th {\n",
       "        vertical-align: top;\n",
       "    }\n",
       "\n",
       "    .dataframe thead th {\n",
       "        text-align: right;\n",
       "    }\n",
       "</style>\n",
       "<table border=\"1\" class=\"dataframe\">\n",
       "  <thead>\n",
       "    <tr style=\"text-align: right;\">\n",
       "      <th></th>\n",
       "      <th>cant_semestres</th>\n",
       "      <th>sexo</th>\n",
       "      <th>prom_notas_semestre</th>\n",
       "      <th>prom_inasistencias</th>\n",
       "      <th>cursos_reprobados</th>\n",
       "      <th>desercion</th>\n",
       "    </tr>\n",
       "  </thead>\n",
       "  <tbody>\n",
       "    <tr>\n",
       "      <th>0</th>\n",
       "      <td>0</td>\n",
       "      <td>F</td>\n",
       "      <td>9.332000</td>\n",
       "      <td>8.800000</td>\n",
       "      <td>3</td>\n",
       "      <td>0</td>\n",
       "    </tr>\n",
       "    <tr>\n",
       "      <th>1</th>\n",
       "      <td>0</td>\n",
       "      <td>F</td>\n",
       "      <td>11.606000</td>\n",
       "      <td>14.600000</td>\n",
       "      <td>1</td>\n",
       "      <td>0</td>\n",
       "    </tr>\n",
       "    <tr>\n",
       "      <th>2</th>\n",
       "      <td>0</td>\n",
       "      <td>M</td>\n",
       "      <td>15.052500</td>\n",
       "      <td>11.375000</td>\n",
       "      <td>0</td>\n",
       "      <td>0</td>\n",
       "    </tr>\n",
       "    <tr>\n",
       "      <th>3</th>\n",
       "      <td>0</td>\n",
       "      <td>M</td>\n",
       "      <td>9.261666</td>\n",
       "      <td>17.666666</td>\n",
       "      <td>4</td>\n",
       "      <td>0</td>\n",
       "    </tr>\n",
       "    <tr>\n",
       "      <th>4</th>\n",
       "      <td>0</td>\n",
       "      <td>M</td>\n",
       "      <td>12.985000</td>\n",
       "      <td>8.666667</td>\n",
       "      <td>2</td>\n",
       "      <td>0</td>\n",
       "    </tr>\n",
       "  </tbody>\n",
       "</table>\n",
       "</div>"
      ],
      "text/plain": [
       "   cant_semestres sexo  prom_notas_semestre  prom_inasistencias  \\\n",
       "0               0    F             9.332000            8.800000   \n",
       "1               0    F            11.606000           14.600000   \n",
       "2               0    M            15.052500           11.375000   \n",
       "3               0    M             9.261666           17.666666   \n",
       "4               0    M            12.985000            8.666667   \n",
       "\n",
       "   cursos_reprobados  desercion  \n",
       "0                  3          0  \n",
       "1                  1          0  \n",
       "2                  0          0  \n",
       "3                  4          0  \n",
       "4                  2          0  "
      ]
     },
     "execution_count": 3,
     "metadata": {},
     "output_type": "execute_result"
    }
   ],
   "source": [
    "desercion = load_desercion_data()\n",
    "desercion.head()"
   ]
  },
  {
   "cell_type": "code",
   "execution_count": 4,
   "metadata": {},
   "outputs": [
    {
     "name": "stdout",
     "output_type": "stream",
     "text": [
      "<class 'pandas.core.frame.DataFrame'>\n",
      "RangeIndex: 4500 entries, 0 to 4499\n",
      "Data columns (total 6 columns):\n",
      " #   Column               Non-Null Count  Dtype  \n",
      "---  ------               --------------  -----  \n",
      " 0   cant_semestres       4500 non-null   int64  \n",
      " 1   sexo                 4500 non-null   object \n",
      " 2   prom_notas_semestre  4500 non-null   float64\n",
      " 3   prom_inasistencias   4500 non-null   float64\n",
      " 4   cursos_reprobados    4500 non-null   int64  \n",
      " 5   desercion            4500 non-null   int64  \n",
      "dtypes: float64(2), int64(3), object(1)\n",
      "memory usage: 211.1+ KB\n"
     ]
    }
   ],
   "source": [
    "# no hay filas nulas\n",
    "desercion.info()"
   ]
  },
  {
   "cell_type": "markdown",
   "metadata": {},
   "source": [
    "# 3) Explorando los datos para obtener perspectivas"
   ]
  },
  {
   "cell_type": "code",
   "execution_count": 5,
   "metadata": {},
   "outputs": [
    {
     "name": "stdout",
     "output_type": "stream",
     "text": [
      "F    2440\n",
      "M    2060\n",
      "Name: sexo, dtype: int64\n",
      "F    0.542222\n",
      "M    0.457778\n",
      "Name: sexo, dtype: float64\n",
      "0    4320\n",
      "1     180\n",
      "Name: desercion, dtype: int64\n"
     ]
    }
   ],
   "source": [
    "# Esto nos indica que para la separación de los datos quizá debamos estratificar \n",
    "# los conjuntos manteniendo el porcentaje de sexos (estratificación)\n",
    "\n",
    "print(desercion[\"sexo\"].value_counts())\n",
    "print(desercion[\"sexo\"].value_counts(normalize=True))\n",
    "# Hay un ~54% de mujeres y un ~46% de varones\n",
    "print(desercion[\"desercion\"].value_counts())"
   ]
  },
  {
   "cell_type": "code",
   "execution_count": 6,
   "metadata": {},
   "outputs": [
    {
     "data": {
      "text/html": [
       "<div>\n",
       "<style scoped>\n",
       "    .dataframe tbody tr th:only-of-type {\n",
       "        vertical-align: middle;\n",
       "    }\n",
       "\n",
       "    .dataframe tbody tr th {\n",
       "        vertical-align: top;\n",
       "    }\n",
       "\n",
       "    .dataframe thead th {\n",
       "        text-align: right;\n",
       "    }\n",
       "</style>\n",
       "<table border=\"1\" class=\"dataframe\">\n",
       "  <thead>\n",
       "    <tr style=\"text-align: right;\">\n",
       "      <th></th>\n",
       "      <th>cant_semestres</th>\n",
       "      <th>prom_notas_semestre</th>\n",
       "      <th>prom_inasistencias</th>\n",
       "      <th>cursos_reprobados</th>\n",
       "      <th>desercion</th>\n",
       "    </tr>\n",
       "  </thead>\n",
       "  <tbody>\n",
       "    <tr>\n",
       "      <th>count</th>\n",
       "      <td>4500.000000</td>\n",
       "      <td>4500.000000</td>\n",
       "      <td>4500.000000</td>\n",
       "      <td>4500.000000</td>\n",
       "      <td>4500.000000</td>\n",
       "    </tr>\n",
       "    <tr>\n",
       "      <th>mean</th>\n",
       "      <td>0.069778</td>\n",
       "      <td>12.874364</td>\n",
       "      <td>9.654359</td>\n",
       "      <td>1.192000</td>\n",
       "      <td>0.040000</td>\n",
       "    </tr>\n",
       "    <tr>\n",
       "      <th>std</th>\n",
       "      <td>0.475702</td>\n",
       "      <td>2.023901</td>\n",
       "      <td>6.088824</td>\n",
       "      <td>1.272943</td>\n",
       "      <td>0.195981</td>\n",
       "    </tr>\n",
       "    <tr>\n",
       "      <th>min</th>\n",
       "      <td>0.000000</td>\n",
       "      <td>0.500000</td>\n",
       "      <td>0.000000</td>\n",
       "      <td>0.000000</td>\n",
       "      <td>0.000000</td>\n",
       "    </tr>\n",
       "    <tr>\n",
       "      <th>25%</th>\n",
       "      <td>0.000000</td>\n",
       "      <td>11.878429</td>\n",
       "      <td>5.166667</td>\n",
       "      <td>0.000000</td>\n",
       "      <td>0.000000</td>\n",
       "    </tr>\n",
       "    <tr>\n",
       "      <th>50%</th>\n",
       "      <td>0.000000</td>\n",
       "      <td>13.060000</td>\n",
       "      <td>9.000000</td>\n",
       "      <td>1.000000</td>\n",
       "      <td>0.000000</td>\n",
       "    </tr>\n",
       "    <tr>\n",
       "      <th>75%</th>\n",
       "      <td>0.000000</td>\n",
       "      <td>14.174881</td>\n",
       "      <td>13.285714</td>\n",
       "      <td>2.000000</td>\n",
       "      <td>0.000000</td>\n",
       "    </tr>\n",
       "    <tr>\n",
       "      <th>max</th>\n",
       "      <td>5.000000</td>\n",
       "      <td>18.372858</td>\n",
       "      <td>53.000000</td>\n",
       "      <td>8.000000</td>\n",
       "      <td>1.000000</td>\n",
       "    </tr>\n",
       "  </tbody>\n",
       "</table>\n",
       "</div>"
      ],
      "text/plain": [
       "       cant_semestres  prom_notas_semestre  prom_inasistencias  \\\n",
       "count     4500.000000          4500.000000         4500.000000   \n",
       "mean         0.069778            12.874364            9.654359   \n",
       "std          0.475702             2.023901            6.088824   \n",
       "min          0.000000             0.500000            0.000000   \n",
       "25%          0.000000            11.878429            5.166667   \n",
       "50%          0.000000            13.060000            9.000000   \n",
       "75%          0.000000            14.174881           13.285714   \n",
       "max          5.000000            18.372858           53.000000   \n",
       "\n",
       "       cursos_reprobados    desercion  \n",
       "count        4500.000000  4500.000000  \n",
       "mean            1.192000     0.040000  \n",
       "std             1.272943     0.195981  \n",
       "min             0.000000     0.000000  \n",
       "25%             0.000000     0.000000  \n",
       "50%             1.000000     0.000000  \n",
       "75%             2.000000     0.000000  \n",
       "max             8.000000     1.000000  "
      ]
     },
     "execution_count": 6,
     "metadata": {},
     "output_type": "execute_result"
    }
   ],
   "source": [
    "desercion.describe()"
   ]
  },
  {
   "cell_type": "code",
   "execution_count": 7,
   "metadata": {},
   "outputs": [
    {
     "name": "stdout",
     "output_type": "stream",
     "text": [
      "Saving figure attribute_histogram_plots\n"
     ]
    },
    {
     "data": {
      "image/png": "[encoded data removed]",
      "text/plain": [
       "<Figure size 1440x1080 with 6 Axes>"
      ]
     },
     "metadata": {
      "needs_background": "light"
     },
     "output_type": "display_data"
    }
   ],
   "source": [
    "# graficamos histogramas por cada variable\n",
    "%matplotlib inline\n",
    "import matplotlib.pyplot as plt\n",
    "desercion.hist(bins=30, figsize=(20,15))\n",
    "save_fig(\"attribute_histogram_plots\")\n",
    "plt.show()"
   ]
  },
  {
   "cell_type": "code",
   "execution_count": 8,
   "metadata": {},
   "outputs": [],
   "source": [
    "# to make this notebook's output identical at every run\n",
    "np.random.seed(42)"
   ]
  },
  {
   "cell_type": "code",
   "execution_count": 9,
   "metadata": {},
   "outputs": [
    {
     "data": {
      "text/html": [
       "<div>\n",
       "<style scoped>\n",
       "    .dataframe tbody tr th:only-of-type {\n",
       "        vertical-align: middle;\n",
       "    }\n",
       "\n",
       "    .dataframe tbody tr th {\n",
       "        vertical-align: top;\n",
       "    }\n",
       "\n",
       "    .dataframe thead th {\n",
       "        text-align: right;\n",
       "    }\n",
       "</style>\n",
       "<table border=\"1\" class=\"dataframe\">\n",
       "  <thead>\n",
       "    <tr style=\"text-align: right;\">\n",
       "      <th></th>\n",
       "      <th>cant_semestres</th>\n",
       "      <th>sexo</th>\n",
       "      <th>prom_notas_semestre</th>\n",
       "      <th>prom_inasistencias</th>\n",
       "      <th>cursos_reprobados</th>\n",
       "      <th>desercion</th>\n",
       "    </tr>\n",
       "  </thead>\n",
       "  <tbody>\n",
       "    <tr>\n",
       "      <th>2323</th>\n",
       "      <td>0</td>\n",
       "      <td>M</td>\n",
       "      <td>14.24800</td>\n",
       "      <td>9.600000</td>\n",
       "      <td>0</td>\n",
       "      <td>0</td>\n",
       "    </tr>\n",
       "    <tr>\n",
       "      <th>3686</th>\n",
       "      <td>0</td>\n",
       "      <td>M</td>\n",
       "      <td>12.79125</td>\n",
       "      <td>3.250000</td>\n",
       "      <td>0</td>\n",
       "      <td>0</td>\n",
       "    </tr>\n",
       "    <tr>\n",
       "      <th>2974</th>\n",
       "      <td>0</td>\n",
       "      <td>F</td>\n",
       "      <td>13.18000</td>\n",
       "      <td>4.571429</td>\n",
       "      <td>2</td>\n",
       "      <td>0</td>\n",
       "    </tr>\n",
       "    <tr>\n",
       "      <th>2992</th>\n",
       "      <td>0</td>\n",
       "      <td>F</td>\n",
       "      <td>15.40250</td>\n",
       "      <td>9.000000</td>\n",
       "      <td>0</td>\n",
       "      <td>0</td>\n",
       "    </tr>\n",
       "    <tr>\n",
       "      <th>468</th>\n",
       "      <td>0</td>\n",
       "      <td>M</td>\n",
       "      <td>12.14375</td>\n",
       "      <td>9.375000</td>\n",
       "      <td>3</td>\n",
       "      <td>0</td>\n",
       "    </tr>\n",
       "  </tbody>\n",
       "</table>\n",
       "</div>"
      ],
      "text/plain": [
       "      cant_semestres sexo  prom_notas_semestre  prom_inasistencias  \\\n",
       "2323               0    M             14.24800            9.600000   \n",
       "3686               0    M             12.79125            3.250000   \n",
       "2974               0    F             13.18000            4.571429   \n",
       "2992               0    F             15.40250            9.000000   \n",
       "468                0    M             12.14375            9.375000   \n",
       "\n",
       "      cursos_reprobados  desercion  \n",
       "2323                  0          0  \n",
       "3686                  0          0  \n",
       "2974                  2          0  \n",
       "2992                  0          0  \n",
       "468                   3          0  "
      ]
     },
     "execution_count": 9,
     "metadata": {},
     "output_type": "execute_result"
    }
   ],
   "source": [
    "# separar los datos de entrenamiento y de prueba aleatoriamente\n",
    "from sklearn.model_selection import train_test_split\n",
    "\n",
    "# El tamaño del conjunto de prueba es el 30%\n",
    "train_set, test_set = train_test_split(desercion, test_size=0.3, random_state=42)\n",
    "test_set.head()"
   ]
  },
  {
   "cell_type": "code",
   "execution_count": 10,
   "metadata": {},
   "outputs": [
    {
     "data": {
      "text/plain": [
       "0    4320\n",
       "1     180\n",
       "Name: desercion, dtype: int64"
      ]
     },
     "execution_count": 10,
     "metadata": {},
     "output_type": "execute_result"
    }
   ],
   "source": [
    "# Separaremos los datos estratificadamente por la variable desercion, ya que necesitamos\n",
    "# que esta variable tenga la misma proporción tanto en el conjunto de prueba como en el de entrenamiento\n",
    "desercion[\"desercion\"].value_counts()"
   ]
  },
  {
   "cell_type": "code",
   "execution_count": 11,
   "metadata": {},
   "outputs": [
    {
     "data": {
      "text/plain": [
       "<AxesSubplot:>"
      ]
     },
     "execution_count": 11,
     "metadata": {},
     "output_type": "execute_result"
    },
    {
     "data": {
      "image/png": "[encoded data removed]",
      "text/plain": [
       "<Figure size 432x288 with 1 Axes>"
      ]
     },
     "metadata": {
      "needs_background": "light"
     },
     "output_type": "display_data"
    }
   ],
   "source": [
    "desercion[\"desercion\"].hist()"
   ]
  },
  {
   "cell_type": "code",
   "execution_count": 12,
   "metadata": {},
   "outputs": [],
   "source": [
    "from sklearn.model_selection import StratifiedShuffleSplit\n",
    "\n",
    "split = StratifiedShuffleSplit(n_splits=1, test_size=0.3, random_state=42)\n",
    "for train_index, test_index in split.split(desercion, desercion[\"desercion\"]):\n",
    "    strat_train_set = desercion.loc[train_index]\n",
    "    strat_test_set = desercion.loc[test_index]"
   ]
  },
  {
   "cell_type": "code",
   "execution_count": 13,
   "metadata": {},
   "outputs": [
    {
     "data": {
      "text/plain": [
       "0    0.96\n",
       "1    0.04\n",
       "Name: desercion, dtype: float64"
      ]
     },
     "execution_count": 13,
     "metadata": {},
     "output_type": "execute_result"
    }
   ],
   "source": [
    "# porcentaje de los alumnos que han desertado (conjunto de prueba estratificada)\n",
    "strat_test_set[\"desercion\"].value_counts() / len(strat_test_set)"
   ]
  },
  {
   "cell_type": "code",
   "execution_count": 14,
   "metadata": {},
   "outputs": [
    {
     "data": {
      "text/plain": [
       "0    0.96\n",
       "1    0.04\n",
       "Name: desercion, dtype: float64"
      ]
     },
     "execution_count": 14,
     "metadata": {},
     "output_type": "execute_result"
    }
   ],
   "source": [
    "# porcentaje de los alumnos que han desertado (conjunto general)\n",
    "desercion[\"desercion\"].value_counts() / len(desercion)"
   ]
  },
  {
   "cell_type": "code",
   "execution_count": 15,
   "metadata": {},
   "outputs": [],
   "source": [
    "# verificaremos el error de separar el conjunto de datos estratificadamente y aleatoriamente\n",
    "def desercion_proportions(data):\n",
    "    return data[\"desercion\"].value_counts() / len(data)\n",
    "\n",
    "train_set, test_set = train_test_split(desercion, test_size=0.3, random_state=42)\n",
    "\n",
    "compare_props = pd.DataFrame({\n",
    "    \"Overall\": desercion_proportions(desercion),\n",
    "    \"Stratified\": desercion_proportions(strat_test_set),\n",
    "    \"Random\": desercion_proportions(test_set),\n",
    "}).sort_index()\n",
    "compare_props[\"Rand. %error\"] = 100 * compare_props[\"Random\"] / compare_props[\"Overall\"] - 100\n",
    "compare_props[\"Strat. %error\"] = 100 * compare_props[\"Stratified\"] / compare_props[\"Overall\"] - 100"
   ]
  },
  {
   "cell_type": "code",
   "execution_count": 16,
   "metadata": {},
   "outputs": [
    {
     "data": {
      "text/html": [
       "<div>\n",
       "<style scoped>\n",
       "    .dataframe tbody tr th:only-of-type {\n",
       "        vertical-align: middle;\n",
       "    }\n",
       "\n",
       "    .dataframe tbody tr th {\n",
       "        vertical-align: top;\n",
       "    }\n",
       "\n",
       "    .dataframe thead th {\n",
       "        text-align: right;\n",
       "    }\n",
       "</style>\n",
       "<table border=\"1\" class=\"dataframe\">\n",
       "  <thead>\n",
       "    <tr style=\"text-align: right;\">\n",
       "      <th></th>\n",
       "      <th>Overall</th>\n",
       "      <th>Stratified</th>\n",
       "      <th>Random</th>\n",
       "      <th>Rand. %error</th>\n",
       "      <th>Strat. %error</th>\n",
       "    </tr>\n",
       "  </thead>\n",
       "  <tbody>\n",
       "    <tr>\n",
       "      <th>0</th>\n",
       "      <td>0.96</td>\n",
       "      <td>0.96</td>\n",
       "      <td>0.957778</td>\n",
       "      <td>-0.231481</td>\n",
       "      <td>0.0</td>\n",
       "    </tr>\n",
       "    <tr>\n",
       "      <th>1</th>\n",
       "      <td>0.04</td>\n",
       "      <td>0.04</td>\n",
       "      <td>0.042222</td>\n",
       "      <td>5.555556</td>\n",
       "      <td>0.0</td>\n",
       "    </tr>\n",
       "  </tbody>\n",
       "</table>\n",
       "</div>"
      ],
      "text/plain": [
       "   Overall  Stratified    Random  Rand. %error  Strat. %error\n",
       "0     0.96        0.96  0.957778     -0.231481            0.0\n",
       "1     0.04        0.04  0.042222      5.555556            0.0"
      ]
     },
     "execution_count": 16,
     "metadata": {},
     "output_type": "execute_result"
    }
   ],
   "source": [
    "compare_props"
   ]
  },
  {
   "cell_type": "code",
   "execution_count": 17,
   "metadata": {},
   "outputs": [],
   "source": [
    "desercion = strat_train_set.copy()"
   ]
  },
  {
   "cell_type": "code",
   "execution_count": 18,
   "metadata": {},
   "outputs": [],
   "source": [
    "corr_matrix = desercion.corr()"
   ]
  },
  {
   "cell_type": "code",
   "execution_count": 19,
   "metadata": {},
   "outputs": [
    {
     "data": {
      "image/png": "[encoded data removed]",
      "text/plain": [
       "<Figure size 1152x432 with 2 Axes>"
      ]
     },
     "metadata": {
      "needs_background": "light"
     },
     "output_type": "display_data"
    }
   ],
   "source": [
    "import seaborn as sns\n",
    "plt.figure(figsize=(16, 6))\n",
    "\n",
    "heatmap = sns.heatmap(corr_matrix, vmin=-1, vmax=1, annot=True)\n",
    "# Título del mapa de calor.\n",
    "heatmap.set_title('Correlation Heatmap', fontdict={'fontsize':12}, pad=12);"
   ]
  },
  {
   "cell_type": "markdown",
   "metadata": {},
   "source": [
    "En la matriz de correlación vemos que la variable que más influye en la desercion es la cantidad de semestres"
   ]
  },
  {
   "cell_type": "code",
   "execution_count": 20,
   "metadata": {},
   "outputs": [
    {
     "name": "stdout",
     "output_type": "stream",
     "text": [
      "Saving figure scatter_matrix_plot\n"
     ]
    },
    {
     "data": {
      "image/png": "[encoded data removed]",
      "text/plain": [
       "<Figure size 1080x864 with 25 Axes>"
      ]
     },
     "metadata": {
      "needs_background": "light"
     },
     "output_type": "display_data"
    }
   ],
   "source": [
    "# from pandas.tools.plotting import scatter_matrix # For older versions of Pandas\n",
    "from pandas.plotting import scatter_matrix\n",
    "\n",
    "attributes = [\"cant_semestres\", \"prom_notas_semestre\", \"prom_inasistencias\",\n",
    "              \"cursos_reprobados\", \"desercion\"]\n",
    "scatter_matrix(desercion[attributes], figsize=(15, 12))\n",
    "save_fig(\"scatter_matrix_plot\")"
   ]
  },
  {
   "cell_type": "code",
   "execution_count": 21,
   "metadata": {},
   "outputs": [
    {
     "data": {
      "text/plain": [
       "desercion              1.000000\n",
       "cant_semestres         0.705445\n",
       "prom_inasistencias     0.223814\n",
       "cursos_reprobados      0.126333\n",
       "prom_notas_semestre   -0.253827\n",
       "Name: desercion, dtype: float64"
      ]
     },
     "execution_count": 21,
     "metadata": {},
     "output_type": "execute_result"
    }
   ],
   "source": [
    "corr_matrix = desercion.corr()\n",
    "corr_matrix[\"desercion\"].sort_values(ascending=False)"
   ]
  },
  {
   "cell_type": "code",
   "execution_count": 22,
   "metadata": {},
   "outputs": [
    {
     "name": "stdout",
     "output_type": "stream",
     "text": [
      "Saving figure cant_semestres_vs_desercion_scatterplot\n"
     ]
    },
    {
     "data": {
      "image/png": "[encoded data removed]",
      "text/plain": [
       "<Figure size 432x288 with 1 Axes>"
      ]
     },
     "metadata": {
      "needs_background": "light"
     },
     "output_type": "display_data"
    }
   ],
   "source": [
    "# esto quiere decir que más alumnos desertan a medida que avanzan en los semestres\n",
    "desercion.plot(kind=\"scatter\", x=\"cant_semestres\", y=\"desercion\",\n",
    "             alpha=0.5)\n",
    "plt.axis([-1, 10, -0.5, 1.5])\n",
    "save_fig(\"cant_semestres_vs_desercion_scatterplot\")"
   ]
  },
  {
   "cell_type": "code",
   "execution_count": 23,
   "metadata": {},
   "outputs": [
    {
     "data": {
      "text/html": [
       "<div>\n",
       "<style scoped>\n",
       "    .dataframe tbody tr th:only-of-type {\n",
       "        vertical-align: middle;\n",
       "    }\n",
       "\n",
       "    .dataframe tbody tr th {\n",
       "        vertical-align: top;\n",
       "    }\n",
       "\n",
       "    .dataframe thead th {\n",
       "        text-align: right;\n",
       "    }\n",
       "</style>\n",
       "<table border=\"1\" class=\"dataframe\">\n",
       "  <thead>\n",
       "    <tr style=\"text-align: right;\">\n",
       "      <th></th>\n",
       "      <th>cant_semestres</th>\n",
       "      <th>prom_notas_semestre</th>\n",
       "      <th>prom_inasistencias</th>\n",
       "      <th>cursos_reprobados</th>\n",
       "      <th>desercion</th>\n",
       "    </tr>\n",
       "  </thead>\n",
       "  <tbody>\n",
       "    <tr>\n",
       "      <th>count</th>\n",
       "      <td>3150.000000</td>\n",
       "      <td>3150.000000</td>\n",
       "      <td>3150.000000</td>\n",
       "      <td>3150.000000</td>\n",
       "      <td>3150.00000</td>\n",
       "    </tr>\n",
       "    <tr>\n",
       "      <th>mean</th>\n",
       "      <td>0.067619</td>\n",
       "      <td>12.870320</td>\n",
       "      <td>9.598025</td>\n",
       "      <td>1.199683</td>\n",
       "      <td>0.04000</td>\n",
       "    </tr>\n",
       "    <tr>\n",
       "      <th>std</th>\n",
       "      <td>0.469656</td>\n",
       "      <td>2.027885</td>\n",
       "      <td>6.134128</td>\n",
       "      <td>1.280506</td>\n",
       "      <td>0.19599</td>\n",
       "    </tr>\n",
       "    <tr>\n",
       "      <th>min</th>\n",
       "      <td>0.000000</td>\n",
       "      <td>0.500000</td>\n",
       "      <td>0.000000</td>\n",
       "      <td>0.000000</td>\n",
       "      <td>0.00000</td>\n",
       "    </tr>\n",
       "    <tr>\n",
       "      <th>25%</th>\n",
       "      <td>0.000000</td>\n",
       "      <td>11.880000</td>\n",
       "      <td>5.000000</td>\n",
       "      <td>0.000000</td>\n",
       "      <td>0.00000</td>\n",
       "    </tr>\n",
       "    <tr>\n",
       "      <th>50%</th>\n",
       "      <td>0.000000</td>\n",
       "      <td>13.038286</td>\n",
       "      <td>9.000000</td>\n",
       "      <td>1.000000</td>\n",
       "      <td>0.00000</td>\n",
       "    </tr>\n",
       "    <tr>\n",
       "      <th>75%</th>\n",
       "      <td>0.000000</td>\n",
       "      <td>14.179167</td>\n",
       "      <td>13.285714</td>\n",
       "      <td>2.000000</td>\n",
       "      <td>0.00000</td>\n",
       "    </tr>\n",
       "    <tr>\n",
       "      <th>max</th>\n",
       "      <td>5.000000</td>\n",
       "      <td>18.372858</td>\n",
       "      <td>53.000000</td>\n",
       "      <td>8.000000</td>\n",
       "      <td>1.00000</td>\n",
       "    </tr>\n",
       "  </tbody>\n",
       "</table>\n",
       "</div>"
      ],
      "text/plain": [
       "       cant_semestres  prom_notas_semestre  prom_inasistencias  \\\n",
       "count     3150.000000          3150.000000         3150.000000   \n",
       "mean         0.067619            12.870320            9.598025   \n",
       "std          0.469656             2.027885            6.134128   \n",
       "min          0.000000             0.500000            0.000000   \n",
       "25%          0.000000            11.880000            5.000000   \n",
       "50%          0.000000            13.038286            9.000000   \n",
       "75%          0.000000            14.179167           13.285714   \n",
       "max          5.000000            18.372858           53.000000   \n",
       "\n",
       "       cursos_reprobados   desercion  \n",
       "count        3150.000000  3150.00000  \n",
       "mean            1.199683     0.04000  \n",
       "std             1.280506     0.19599  \n",
       "min             0.000000     0.00000  \n",
       "25%             0.000000     0.00000  \n",
       "50%             1.000000     0.00000  \n",
       "75%             2.000000     0.00000  \n",
       "max             8.000000     1.00000  "
      ]
     },
     "execution_count": 23,
     "metadata": {},
     "output_type": "execute_result"
    }
   ],
   "source": [
    "desercion.describe()"
   ]
  },
  {
   "cell_type": "markdown",
   "metadata": {},
   "source": [
    "# 4) Prepare los datos para los algoritmos de aprendizaje automático"
   ]
  },
  {
   "cell_type": "code",
   "execution_count": 24,
   "metadata": {},
   "outputs": [],
   "source": [
    "desercion = strat_train_set.drop(\"desercion\", axis=1) # eliminando la etiqueta desercion para el conjunto de entrenamiento\n",
    "desercion_labels = strat_train_set[\"desercion\"].copy()"
   ]
  },
  {
   "cell_type": "code",
   "execution_count": 25,
   "metadata": {},
   "outputs": [
    {
     "data": {
      "text/html": [
       "<div>\n",
       "<style scoped>\n",
       "    .dataframe tbody tr th:only-of-type {\n",
       "        vertical-align: middle;\n",
       "    }\n",
       "\n",
       "    .dataframe tbody tr th {\n",
       "        vertical-align: top;\n",
       "    }\n",
       "\n",
       "    .dataframe thead th {\n",
       "        text-align: right;\n",
       "    }\n",
       "</style>\n",
       "<table border=\"1\" class=\"dataframe\">\n",
       "  <thead>\n",
       "    <tr style=\"text-align: right;\">\n",
       "      <th></th>\n",
       "      <th>cant_semestres</th>\n",
       "      <th>sexo</th>\n",
       "      <th>prom_notas_semestre</th>\n",
       "      <th>prom_inasistencias</th>\n",
       "      <th>cursos_reprobados</th>\n",
       "    </tr>\n",
       "  </thead>\n",
       "  <tbody>\n",
       "  </tbody>\n",
       "</table>\n",
       "</div>"
      ],
      "text/plain": [
       "Empty DataFrame\n",
       "Columns: [cant_semestres, sexo, prom_notas_semestre, prom_inasistencias, cursos_reprobados]\n",
       "Index: []"
      ]
     },
     "execution_count": 25,
     "metadata": {},
     "output_type": "execute_result"
    }
   ],
   "source": [
    "sample_incomplete_rows = desercion[desercion.isnull().any(axis=1)].head()\n",
    "sample_incomplete_rows"
   ]
  },
  {
   "cell_type": "markdown",
   "metadata": {},
   "source": [
    "Para seguir con la modificación del conjunto de entrenamiento quitaremos aquellas variables textuales para trabajar solo con números"
   ]
  },
  {
   "cell_type": "code",
   "execution_count": 26,
   "metadata": {},
   "outputs": [],
   "source": [
    "desercion_num = desercion.drop('sexo', axis=1) # la columna sexo es una variable categórica en texto"
   ]
  },
  {
   "cell_type": "markdown",
   "metadata": {},
   "source": [
    "no hay datos nulos en el conjunto de datos, entonces no se necesita rellenar los datos con ninguna técnica"
   ]
  },
  {
   "cell_type": "code",
   "execution_count": 27,
   "metadata": {},
   "outputs": [
    {
     "name": "stdout",
     "output_type": "stream",
     "text": [
      "desercion     0   1\n",
      "sexo               \n",
      "F          1638  65\n",
      "M          1386  61\n"
     ]
    },
    {
     "data": {
      "text/plain": [
       "<AxesSubplot:xlabel='sexo'>"
      ]
     },
     "execution_count": 27,
     "metadata": {},
     "output_type": "execute_result"
    },
    {
     "data": {
      "image/png": "[encoded data removed]",
      "text/plain": [
       "<Figure size 432x288 with 1 Axes>"
      ]
     },
     "metadata": {
      "needs_background": "light"
     },
     "output_type": "display_data"
    }
   ],
   "source": [
    "# Más adelante analizaremos si el sexo influye o no en el resultado de la clasificación\n",
    "desercion_cat = desercion[[\"sexo\"]]\n",
    "#################################################\n",
    "# Cross tabulation entre el SEXO y la DESERCION\n",
    "CrosstabResult=pd.crosstab(index=desercion['sexo'],columns=desercion_labels)\n",
    "print(CrosstabResult)\n",
    " \n",
    "# Agrupamos estas barras para mostrar la relación entre DESERCION y el SEXO\n",
    "%matplotlib inline\n",
    "CrosstabResult.plot.bar()"
   ]
  },
  {
   "cell_type": "code",
   "execution_count": 28,
   "metadata": {},
   "outputs": [
    {
     "data": {
      "text/plain": [
       "1477    F\n",
       "1849    M\n",
       "4347    F\n",
       "1994    F\n",
       "510     M\n",
       "3346    M\n",
       "959     F\n",
       "3442    M\n",
       "1480    M\n",
       "1094    M\n",
       "Name: sexo, dtype: object"
      ]
     },
     "execution_count": 28,
     "metadata": {},
     "output_type": "execute_result"
    }
   ],
   "source": [
    "desercion_cat = desercion['sexo']\n",
    "desercion_cat.head(10)"
   ]
  },
  {
   "cell_type": "markdown",
   "metadata": {},
   "source": [
    "Podemos usar el método factorize() de Pandas para convertir estas letras categóricas (\"M\",\"F\") a un número de característica categórica, la cual será más fácil de interpretar para los algoritmos de _Machine Learning_:"
   ]
  },
  {
   "cell_type": "code",
   "execution_count": 29,
   "metadata": {},
   "outputs": [
    {
     "data": {
      "text/plain": [
       "array([0, 1, 0, 0, 1, 1, 0, 1, 1, 1], dtype=int64)"
      ]
     },
     "execution_count": 29,
     "metadata": {},
     "output_type": "execute_result"
    }
   ],
   "source": [
    "desercion_cat_encoded, desercion_categories = desercion_cat.factorize()\n",
    "desercion_cat_encoded[:10]"
   ]
  },
  {
   "cell_type": "code",
   "execution_count": 30,
   "metadata": {},
   "outputs": [
    {
     "data": {
      "text/plain": [
       "Index(['F', 'M'], dtype='object')"
      ]
     },
     "execution_count": 30,
     "metadata": {},
     "output_type": "execute_result"
    }
   ],
   "source": [
    "desercion_categories"
   ]
  },
  {
   "cell_type": "markdown",
   "metadata": {},
   "source": [
    "Otro método existente es la codificación _One Hot_ la cual generará vectores binarios asignando una posición específica para cada categoría, p.ej. Supongamos que tenemos las siguientes categorías:  \n",
    "[0 1 2 4]  \n",
    "[1 0 0 0] -> 0 (este vector representa a la categoría 0)  \n",
    "[0 1 0 0] -> 1 (este vector representa a la categoría 1)  \n",
    "[0 0 1 0] -> 2 (este vector representa a la categoría 2)  \n",
    "[0 0 0 1] -> 4 (este vector representa a la categoría 4)"
   ]
  },
  {
   "cell_type": "code",
   "execution_count": 31,
   "metadata": {},
   "outputs": [
    {
     "data": {
      "text/plain": [
       "<3150x2 sparse matrix of type '<class 'numpy.float64'>'\n",
       "\twith 3150 stored elements in Compressed Sparse Row format>"
      ]
     },
     "execution_count": 31,
     "metadata": {},
     "output_type": "execute_result"
    }
   ],
   "source": [
    "from sklearn.preprocessing import OneHotEncoder\n",
    "\n",
    "encoder = OneHotEncoder()\n",
    "desercion_cat_1hot = encoder.fit_transform(desercion_cat_encoded.reshape(-1,1))\n",
    "desercion_cat_1hot"
   ]
  },
  {
   "cell_type": "code",
   "execution_count": 32,
   "metadata": {},
   "outputs": [
    {
     "data": {
      "text/plain": [
       "array([[1., 0.],\n",
       "       [0., 1.],\n",
       "       [1., 0.],\n",
       "       ...,\n",
       "       [1., 0.],\n",
       "       [1., 0.],\n",
       "       [1., 0.]])"
      ]
     },
     "execution_count": 32,
     "metadata": {},
     "output_type": "execute_result"
    }
   ],
   "source": [
    "desercion_cat_1hot.toarray()"
   ]
  },
  {
   "cell_type": "code",
   "execution_count": 33,
   "metadata": {},
   "outputs": [],
   "source": [
    "# Definition of the CategoricalEncoder class, copied from PR #9151.\n",
    "# Just run this cell, or copy it to your code, do not try to understand it (yet).\n",
    "\n",
    "from sklearn.base import BaseEstimator, TransformerMixin\n",
    "from sklearn.utils import check_array\n",
    "from sklearn.preprocessing import LabelEncoder\n",
    "from scipy import sparse\n",
    "\n",
    "class CategoricalEncoder(BaseEstimator, TransformerMixin):\n",
    "    \"\"\"Encode categorical features as a numeric array.\n",
    "    The input to this transformer should be a matrix of integers or strings,\n",
    "    denoting the values taken on by categorical (discrete) features.\n",
    "    The features can be encoded using a one-hot aka one-of-K scheme\n",
    "    (``encoding='onehot'``, the default) or converted to ordinal integers\n",
    "    (``encoding='ordinal'``).\n",
    "    This encoding is needed for feeding categorical data to many scikit-learn\n",
    "    estimators, notably linear models and SVMs with the standard kernels.\n",
    "    Read more in the :ref:`User Guide <preprocessing_categorical_features>`.\n",
    "    Parameters\n",
    "    ----------\n",
    "    encoding : str, 'onehot', 'onehot-dense' or 'ordinal'\n",
    "        The type of encoding to use (default is 'onehot'):\n",
    "        - 'onehot': encode the features using a one-hot aka one-of-K scheme\n",
    "          (or also called 'dummy' encoding). This creates a binary column for\n",
    "          each category and returns a sparse matrix.\n",
    "        - 'onehot-dense': the same as 'onehot' but returns a dense array\n",
    "          instead of a sparse matrix.\n",
    "        - 'ordinal': encode the features as ordinal integers. This results in\n",
    "          a single column of integers (0 to n_categories - 1) per feature.\n",
    "    categories : 'auto' or a list of lists/arrays of values.\n",
    "        Categories (unique values) per feature:\n",
    "        - 'auto' : Determine categories automatically from the training data.\n",
    "        - list : ``categories[i]`` holds the categories expected in the ith\n",
    "          column. The passed categories are sorted before encoding the data\n",
    "          (used categories can be found in the ``categories_`` attribute).\n",
    "    dtype : number type, default np.float64\n",
    "        Desired dtype of output.\n",
    "    handle_unknown : 'error' (default) or 'ignore'\n",
    "        Whether to raise an error or ignore if a unknown categorical feature is\n",
    "        present during transform (default is to raise). When this is parameter\n",
    "        is set to 'ignore' and an unknown category is encountered during\n",
    "        transform, the resulting one-hot encoded columns for this feature\n",
    "        will be all zeros.\n",
    "        Ignoring unknown categories is not supported for\n",
    "        ``encoding='ordinal'``.\n",
    "    Attributes\n",
    "    ----------\n",
    "    categories_ : list of arrays\n",
    "        The categories of each feature determined during fitting. When\n",
    "        categories were specified manually, this holds the sorted categories\n",
    "        (in order corresponding with output of `transform`).\n",
    "    Examples\n",
    "    --------\n",
    "    Given a dataset with three features and two samples, we let the encoder\n",
    "    find the maximum value per feature and transform the data to a binary\n",
    "    one-hot encoding.\n",
    "    >>> from sklearn.preprocessing import CategoricalEncoder\n",
    "    >>> enc = CategoricalEncoder(handle_unknown='ignore')\n",
    "    >>> enc.fit([[0, 0, 3], [1, 1, 0], [0, 2, 1], [1, 0, 2]])\n",
    "    ... # doctest: +ELLIPSIS\n",
    "    CategoricalEncoder(categories='auto', dtype=<... 'numpy.float64'>,\n",
    "              encoding='onehot', handle_unknown='ignore')\n",
    "    >>> enc.transform([[0, 1, 1], [1, 0, 4]]).toarray()\n",
    "    array([[ 1.,  0.,  0.,  1.,  0.,  0.,  1.,  0.,  0.],\n",
    "           [ 0.,  1.,  1.,  0.,  0.,  0.,  0.,  0.,  0.]])\n",
    "    See also\n",
    "    --------\n",
    "    sklearn.preprocessing.OneHotEncoder : performs a one-hot encoding of\n",
    "      integer ordinal features. The ``OneHotEncoder assumes`` that input\n",
    "      features take on values in the range ``[0, max(feature)]`` instead of\n",
    "      using the unique values.\n",
    "    sklearn.feature_extraction.DictVectorizer : performs a one-hot encoding of\n",
    "      dictionary items (also handles string-valued features).\n",
    "    sklearn.feature_extraction.FeatureHasher : performs an approximate one-hot\n",
    "      encoding of dictionary items or strings.\n",
    "    \"\"\"\n",
    "\n",
    "    def __init__(self, encoding='onehot', categories='auto', dtype=np.float64,\n",
    "                 handle_unknown='error'):\n",
    "        self.encoding = encoding\n",
    "        self.categories = categories\n",
    "        self.dtype = dtype\n",
    "        self.handle_unknown = handle_unknown\n",
    "\n",
    "    def fit(self, X, y=None):\n",
    "        \"\"\"Fit the CategoricalEncoder to X.\n",
    "        Parameters\n",
    "        ----------\n",
    "        X : array-like, shape [n_samples, n_feature]\n",
    "            The data to determine the categories of each feature.\n",
    "        Returns\n",
    "        -------\n",
    "        self\n",
    "        \"\"\"\n",
    "\n",
    "        if self.encoding not in ['onehot', 'onehot-dense', 'ordinal']:\n",
    "            template = (\"encoding should be either 'onehot', 'onehot-dense' \"\n",
    "                        \"or 'ordinal', got %s\")\n",
    "            raise ValueError(template % self.handle_unknown)\n",
    "\n",
    "        if self.handle_unknown not in ['error', 'ignore']:\n",
    "            template = (\"handle_unknown should be either 'error' or \"\n",
    "                        \"'ignore', got %s\")\n",
    "            raise ValueError(template % self.handle_unknown)\n",
    "\n",
    "        if self.encoding == 'ordinal' and self.handle_unknown == 'ignore':\n",
    "            raise ValueError(\"handle_unknown='ignore' is not supported for\"\n",
    "                             \" encoding='ordinal'\")\n",
    "\n",
    "        X = check_array(X, dtype=np.object, accept_sparse='csc', copy=True)\n",
    "        n_samples, n_features = X.shape\n",
    "\n",
    "        self._label_encoders_ = [LabelEncoder() for _ in range(n_features)]\n",
    "\n",
    "        for i in range(n_features):\n",
    "            le = self._label_encoders_[i]\n",
    "            Xi = X[:, i]\n",
    "            if self.categories == 'auto':\n",
    "                le.fit(Xi)\n",
    "            else:\n",
    "                valid_mask = np.in1d(Xi, self.categories[i])\n",
    "                if not np.all(valid_mask):\n",
    "                    if self.handle_unknown == 'error':\n",
    "                        diff = np.unique(Xi[~valid_mask])\n",
    "                        msg = (\"Found unknown categories {0} in column {1}\"\n",
    "                               \" during fit\".format(diff, i))\n",
    "                        raise ValueError(msg)\n",
    "                le.classes_ = np.array(np.sort(self.categories[i]))\n",
    "\n",
    "        self.categories_ = [le.classes_ for le in self._label_encoders_]\n",
    "\n",
    "        return self\n",
    "\n",
    "    def transform(self, X):\n",
    "        \"\"\"Transform X using one-hot encoding.\n",
    "        Parameters\n",
    "        ----------\n",
    "        X : array-like, shape [n_samples, n_features]\n",
    "            The data to encode.\n",
    "        Returns\n",
    "        -------\n",
    "        X_out : sparse matrix or a 2-d array\n",
    "            Transformed input.\n",
    "        \"\"\"\n",
    "        X = check_array(X, accept_sparse='csc', dtype=np.object, copy=True)\n",
    "        n_samples, n_features = X.shape\n",
    "        X_int = np.zeros_like(X, dtype=np.int)\n",
    "        X_mask = np.ones_like(X, dtype=np.bool)\n",
    "\n",
    "        for i in range(n_features):\n",
    "            valid_mask = np.in1d(X[:, i], self.categories_[i])\n",
    "\n",
    "            if not np.all(valid_mask):\n",
    "                if self.handle_unknown == 'error':\n",
    "                    diff = np.unique(X[~valid_mask, i])\n",
    "                    msg = (\"Found unknown categories {0} in column {1}\"\n",
    "                           \" during transform\".format(diff, i))\n",
    "                    raise ValueError(msg)\n",
    "                else:\n",
    "                    # Set the problematic rows to an acceptable value and\n",
    "                    # continue `The rows are marked `X_mask` and will be\n",
    "                    # removed later.\n",
    "                    X_mask[:, i] = valid_mask\n",
    "                    X[:, i][~valid_mask] = self.categories_[i][0]\n",
    "            X_int[:, i] = self._label_encoders_[i].transform(X[:, i])\n",
    "\n",
    "        if self.encoding == 'ordinal':\n",
    "            return X_int.astype(self.dtype, copy=False)\n",
    "\n",
    "        mask = X_mask.ravel()\n",
    "        n_values = [cats.shape[0] for cats in self.categories_]\n",
    "        n_values = np.array([0] + n_values)\n",
    "        indices = np.cumsum(n_values)\n",
    "\n",
    "        column_indices = (X_int + indices[:-1]).ravel()[mask]\n",
    "        row_indices = np.repeat(np.arange(n_samples, dtype=np.int32),\n",
    "                                n_features)[mask]\n",
    "        data = np.ones(n_samples * n_features)[mask]\n",
    "\n",
    "        out = sparse.csc_matrix((data, (row_indices, column_indices)),\n",
    "                                shape=(n_samples, indices[-1]),\n",
    "                                dtype=self.dtype).tocsr()\n",
    "        if self.encoding == 'onehot-dense':\n",
    "            return out.toarray()\n",
    "        else:\n",
    "            return out"
   ]
  },
  {
   "cell_type": "markdown",
   "metadata": {},
   "source": [
    "La clase `CategoricalEncoder` expera un array 2D que contenga una o más variables categóricas. Necesitamos hacer un _reshape_ `desercion_cat` a un array 2D."
   ]
  },
  {
   "cell_type": "code",
   "execution_count": 34,
   "metadata": {},
   "outputs": [
    {
     "data": {
      "text/plain": [
       "<3150x2 sparse matrix of type '<class 'numpy.float64'>'\n",
       "\twith 3150 stored elements in Compressed Sparse Row format>"
      ]
     },
     "execution_count": 34,
     "metadata": {},
     "output_type": "execute_result"
    }
   ],
   "source": [
    "#from sklearn.preprocessing import CategoricalEncoder # in future versions of Scikit-Learn\n",
    "cat_encoder = CategoricalEncoder()\n",
    "desercion_cat_reshaped = desercion_cat.values.reshape(-1, 1)\n",
    "desercion_cat_1hot = cat_encoder.fit_transform(desercion_cat_reshaped)\n",
    "desercion_cat_1hot"
   ]
  },
  {
   "cell_type": "markdown",
   "metadata": {},
   "source": [
    "La codificación por defecto es _one-hot_, y esto retorna una matriz/arreglo esparsa. Puedes usar el método `toarray()` para obtener un arreglo denso:"
   ]
  },
  {
   "cell_type": "code",
   "execution_count": 35,
   "metadata": {},
   "outputs": [
    {
     "data": {
      "text/plain": [
       "array([[1., 0.],\n",
       "       [0., 1.],\n",
       "       [1., 0.],\n",
       "       ...,\n",
       "       [1., 0.],\n",
       "       [1., 0.],\n",
       "       [1., 0.]])"
      ]
     },
     "execution_count": 35,
     "metadata": {},
     "output_type": "execute_result"
    }
   ],
   "source": [
    "desercion_cat_1hot.toarray()"
   ]
  },
  {
   "cell_type": "markdown",
   "metadata": {},
   "source": [
    "Ahora utilizaremos pipelines para trabajar los valores numéricos del conjunto de entrenamiento"
   ]
  },
  {
   "cell_type": "code",
   "execution_count": 36,
   "metadata": {},
   "outputs": [],
   "source": [
    "from sklearn.pipeline import Pipeline\n",
    "from sklearn.preprocessing import StandardScaler\n",
    "\n",
    "num_pipeline = Pipeline([\n",
    "        ('std_scaler', StandardScaler()),\n",
    "    ])\n",
    "\n",
    "desercion_num_tr = num_pipeline.fit_transform(desercion_num)"
   ]
  },
  {
   "cell_type": "code",
   "execution_count": 37,
   "metadata": {},
   "outputs": [
    {
     "data": {
      "text/plain": [
       "array([[-0.14399845, -0.31933044,  0.64785635,  0.62510029],\n",
       "       [-0.14399845,  0.686099  , -0.63323688, -0.93703053],\n",
       "       [-0.14399845, -0.53939308, -0.28772989,  0.62510029],\n",
       "       ...,\n",
       "       [-0.14399845,  0.31690136, -1.51835591,  0.62510029],\n",
       "       [-0.14399845,  0.7749928 , -0.34207933, -0.93703053],\n",
       "       [-0.14399845,  0.56949141, -1.26601934, -0.93703053]])"
      ]
     },
     "execution_count": 37,
     "metadata": {},
     "output_type": "execute_result"
    }
   ],
   "source": [
    "desercion_num_tr"
   ]
  },
  {
   "cell_type": "markdown",
   "metadata": {},
   "source": [
    "Creamos un transformador que seleccionará un subconjunto de columnas del Dataframe"
   ]
  },
  {
   "cell_type": "code",
   "execution_count": 38,
   "metadata": {},
   "outputs": [],
   "source": [
    "from sklearn.base import BaseEstimator, TransformerMixin\n",
    "\n",
    "# Create a class to select numerical or categorical columns \n",
    "# since Scikit-Learn doesn't handle DataFrames yet\n",
    "class DataFrameSelector(BaseEstimator, TransformerMixin):\n",
    "    def __init__(self, attribute_names):\n",
    "        self.attribute_names = attribute_names\n",
    "    def fit(self, X, y=None):\n",
    "        return self\n",
    "    def transform(self, X):\n",
    "        return X[self.attribute_names].values"
   ]
  },
  {
   "cell_type": "markdown",
   "metadata": {},
   "source": [
    "Uniremos todos los componentes del pipeline en un gran pipelinepara preprocesar tanto las variables categóricas como las numéricas"
   ]
  },
  {
   "cell_type": "code",
   "execution_count": 39,
   "metadata": {},
   "outputs": [],
   "source": [
    "num_attribs = list(desercion_num) # El nombre de los atributos numéricos: \n",
    "#['cant_semestres','prom_notas_semestre','prom_inasistencias','cursos_reprobados']\n",
    "cat_attribs = [\"sexo\"] # El nombre de la variable categórica: [\"sexo\"]\n",
    "\n",
    "num_pipeline = Pipeline([\n",
    "        ('selector', DataFrameSelector(num_attribs)), # selecciona los atributos/variables numéric@s\n",
    "        ('std_scaler', StandardScaler()), # Regulariza los datos con la desviación estándar \n",
    "    ])\n",
    "\n",
    "cat_pipeline = Pipeline([\n",
    "        ('selector', DataFrameSelector(cat_attribs)), # selecciona los atributos categóricos\n",
    "        ('cat_encoder', CategoricalEncoder(encoding=\"onehot-dense\")), # codificará la variable categórica en un array denso\n",
    "    ])"
   ]
  },
  {
   "cell_type": "code",
   "execution_count": 40,
   "metadata": {},
   "outputs": [],
   "source": [
    "from sklearn.pipeline import FeatureUnion\n",
    "\n",
    "# Combinamos ambos pipelines en uno más grande\n",
    "full_pipeline = FeatureUnion(transformer_list=[\n",
    "        (\"num_pipeline\", num_pipeline),\n",
    "        (\"cat_pipeline\", cat_pipeline),\n",
    "    ])"
   ]
  },
  {
   "cell_type": "code",
   "execution_count": 41,
   "metadata": {},
   "outputs": [
    {
     "data": {
      "text/plain": [
       "array([[-0.14399845, -0.31933044,  0.64785635,  0.62510029,  1.        ,\n",
       "         0.        ],\n",
       "       [-0.14399845,  0.686099  , -0.63323688, -0.93703053,  0.        ,\n",
       "         1.        ],\n",
       "       [-0.14399845, -0.53939308, -0.28772989,  0.62510029,  1.        ,\n",
       "         0.        ],\n",
       "       ...,\n",
       "       [-0.14399845,  0.31690136, -1.51835591,  0.62510029,  1.        ,\n",
       "         0.        ],\n",
       "       [-0.14399845,  0.7749928 , -0.34207933, -0.93703053,  1.        ,\n",
       "         0.        ],\n",
       "       [-0.14399845,  0.56949141, -1.26601934, -0.93703053,  1.        ,\n",
       "         0.        ]])"
      ]
     },
     "execution_count": 41,
     "metadata": {},
     "output_type": "execute_result"
    }
   ],
   "source": [
    "desercion_prepared = full_pipeline.fit_transform(desercion)\n",
    "desercion_prepared"
   ]
  },
  {
   "cell_type": "code",
   "execution_count": 42,
   "metadata": {},
   "outputs": [
    {
     "data": {
      "text/plain": [
       "(3150, 6)"
      ]
     },
     "execution_count": 42,
     "metadata": {},
     "output_type": "execute_result"
    }
   ],
   "source": [
    "# Ya tenemos lista la data convertida\n",
    "desercion_prepared.shape"
   ]
  },
  {
   "cell_type": "markdown",
   "metadata": {},
   "source": [
    "# 5) Selección de modelos de _machine learning_  \n",
    "Los modelos de clasificación que utilizaremos son:  \n",
    "- _Naive Bayes_.\n",
    "- _Decision Tree_.\n",
    "- _Random Forest_.\n",
    "- _Support Vector Machine_.\n",
    "- _Logistic Regression_ (implementación propia)."
   ]
  },
  {
   "cell_type": "markdown",
   "metadata": {},
   "source": [
    "## _Cross Validation_  \n",
    "Utilizaremos la validación cruzada para cada conjunto de datos, nuestra variable _k_ será 5."
   ]
  },
  {
   "cell_type": "code",
   "execution_count": 43,
   "metadata": {},
   "outputs": [],
   "source": [
    "from sklearn.model_selection import cross_val_score\n",
    "\n",
    "def display_scores(scores, name):\n",
    "    print(f\"Showing scores of metric {name}\")\n",
    "    print(\"Scores:\", scores)\n",
    "    print(\"Mean:\", scores.mean())\n",
    "    print(\"Standard deviation:\", scores.std())\n",
    "\n",
    "def get_k_fold_prediction_metrics(model, X_train, y_train, k_folds=5):\n",
    "    scores_f1 = cross_val_score(model, X_train, y_train, scoring=\"f1\", cv=k_folds)\n",
    "    scores_precision = cross_val_score(model, X_train, y_train, scoring=\"precision\", cv=k_folds)\n",
    "    scores_recall = cross_val_score(model, X_train, y_train, scoring=\"recall\", cv=k_folds)\n",
    "    display_scores(scores_f1, \"'F1'\")\n",
    "    display_scores(scores_precision, \"'Precision'\")\n",
    "    display_scores(scores_recall, \"'Recall'\")\n"
   ]
  },
  {
   "cell_type": "code",
   "execution_count": 44,
   "metadata": {},
   "outputs": [
    {
     "name": "stdout",
     "output_type": "stream",
     "text": [
      "Metrics for Naive Bayes classifier\n",
      "Showing scores of metric 'F1'\n",
      "Scores: [0.80952381 0.73170732 0.79069767 0.84444444 0.80851064]\n",
      "Mean: 0.7969767767515804\n",
      "Standard deviation: 0.03699504551308491\n",
      "Showing scores of metric 'Precision'\n",
      "Scores: [1.         0.9375     0.94444444 0.95       0.9047619 ]\n",
      "Mean: 0.94734126984127\n",
      "Standard deviation: 0.03065372808653829\n",
      "Showing scores of metric 'Recall'\n",
      "Scores: [0.68       0.6        0.68       0.76       0.73076923]\n",
      "Mean: 0.6901538461538461\n",
      "Standard deviation: 0.054519742909004125\n"
     ]
    }
   ],
   "source": [
    "from sklearn.naive_bayes import GaussianNB\n",
    "gnb = GaussianNB()\n",
    "print(\"Metrics for Naive Bayes classifier\")\n",
    "get_k_fold_prediction_metrics(gnb, desercion_prepared, desercion_labels)"
   ]
  },
  {
   "cell_type": "code",
   "execution_count": 45,
   "metadata": {},
   "outputs": [
    {
     "name": "stdout",
     "output_type": "stream",
     "text": [
      "Metrics for Decision Tree classifier\n",
      "Showing scores of metric 'F1'\n",
      "Scores: [0.6        0.67857143 0.65116279 0.71875    0.72340426]\n",
      "Mean: 0.6743776949176505\n",
      "Standard deviation: 0.04574071657568884\n",
      "Showing scores of metric 'Precision'\n",
      "Scores: [0.55555556 0.79166667 0.56       0.6969697  0.68      ]\n",
      "Mean: 0.6568383838383839\n",
      "Standard deviation: 0.08939970077878784\n",
      "Showing scores of metric 'Recall'\n",
      "Scores: [0.65217391 0.59375    0.77777778 0.74193548 0.77272727]\n",
      "Mean: 0.7076728894838993\n",
      "Standard deviation: 0.07263505303956322\n"
     ]
    }
   ],
   "source": [
    "from sklearn.tree import DecisionTreeRegressor\n",
    "\n",
    "tree_reg = DecisionTreeRegressor(random_state=42)\n",
    "print(\"Metrics for Decision Tree classifier\")\n",
    "get_k_fold_prediction_metrics(tree_reg, desercion_prepared, desercion_labels)"
   ]
  },
  {
   "cell_type": "code",
   "execution_count": 46,
   "metadata": {},
   "outputs": [
    {
     "name": "stdout",
     "output_type": "stream",
     "text": [
      "Metrics for Random Forest classifier\n",
      "Showing scores of metric 'F1'\n",
      "Scores: [0.73170732 0.75       0.77272727 0.84444444 0.86956522]\n",
      "Mean: 0.7936888503272383\n",
      "Standard deviation: 0.0538946514154267\n",
      "Showing scores of metric 'Precision'\n",
      "Scores: [0.9375     1.         0.89473684 0.95       1.        ]\n",
      "Mean: 0.9564473684210526\n",
      "Standard deviation: 0.04000605909787837\n",
      "Showing scores of metric 'Recall'\n",
      "Scores: [0.6        0.6        0.68       0.76       0.76923077]\n",
      "Mean: 0.6818461538461538\n",
      "Standard deviation: 0.0736818685395484\n"
     ]
    }
   ],
   "source": [
    "from sklearn.ensemble import RandomForestClassifier\n",
    "\n",
    "forest_classifier = RandomForestClassifier(n_estimators=20, random_state=42)\n",
    "print(\"Metrics for Random Forest classifier\")\n",
    "get_k_fold_prediction_metrics(forest_classifier, desercion_prepared, desercion_labels)"
   ]
  },
  {
   "cell_type": "code",
   "execution_count": 47,
   "metadata": {},
   "outputs": [
    {
     "name": "stdout",
     "output_type": "stream",
     "text": [
      "Metrics for Support Vector Machine classifier\n",
      "Showing scores of metric 'F1'\n",
      "Scores: [0.75       0.75       0.80952381 0.86363636 0.81818182]\n",
      "Mean: 0.7982683982683982\n",
      "Standard deviation: 0.04348764425516193\n",
      "Showing scores of metric 'Precision'\n",
      "Scores: [1. 1. 1. 1. 1.]\n",
      "Mean: 1.0\n",
      "Standard deviation: 0.0\n",
      "Showing scores of metric 'Recall'\n",
      "Scores: [0.6        0.6        0.68       0.76       0.69230769]\n",
      "Mean: 0.6664615384615384\n",
      "Standard deviation: 0.06072072065744744\n"
     ]
    }
   ],
   "source": [
    "from sklearn.svm import SVC\n",
    "\n",
    "svc_classifier = SVC(kernel=\"linear\")\n",
    "print(\"Metrics for Support Vector Machine classifier\")\n",
    "get_k_fold_prediction_metrics(svc_classifier, desercion_prepared, desercion_labels)"
   ]
  },
  {
   "cell_type": "markdown",
   "metadata": {},
   "source": [
    "## Regresión Logística (implementación propia)\n",
    "Las funciones principales a implementar son:  \n",
    "### Función de costo  \n",
    "$$\n",
    "J(\\theta)=-\\frac{1}{m} \\sum_{i=1}^{m}y^{(i)}\\log(h_{\\theta}(x^{(i)})) + (1-y^{(i)})\\log(1-h_{\\theta}(x^{(i)}))\n",
    "$$\n",
    "### Gradiente descendiente  \n",
    "$$\n",
    "\\theta_{j} := \\theta_{j} - \\frac{\\alpha}{m}\\sum_{i=1}^{m}(h_{\\theta}(x^{(i)}) - y^{(i)})x_{j}^{(i)}\n",
    "$$\n",
    "La ecuación de arriba también puede ser expresada como una ecuación del algebra lineal.  \n",
    "$$\n",
    "\\theta := \\theta - \\frac{\\alpha}{m} X^{T}(\\sigma(X\\theta) - y)\n",
    "$$"
   ]
  },
  {
   "cell_type": "code",
   "execution_count": 48,
   "metadata": {},
   "outputs": [],
   "source": [
    "def add_bias(X):\n",
    "    \"\"\"\n",
    "    Función [add_bias]: añade una columna de 1s como primera columna del conjunto de datos X\n",
    "    Entradas:\n",
    "    - X: El conjunto de datos, array de dimensión (N,M)\n",
    "    Salidas:\n",
    "    - X_bias: El conjunto de datos con un bias, array de dimensión (N,M+1)\n",
    "    \n",
    "    \"\"\"  \n",
    "    # agregamos una columna de unos (bias) como primera columna del conjunto de datos\n",
    "    rows_X = X.shape[0]\n",
    "    ones = np.ones((rows_X, 1))\n",
    "    X_bias = np.append(ones, X, axis=1)\n",
    "    return X_bias\n",
    "\n",
    "def sigmoid(x):\n",
    "    \"\"\"\n",
    "    Función [sigmoid]: retorna el valor de la función sigmoidal de x\n",
    "    Entradas:\n",
    "    - x: número real o entero\n",
    "    Salidas:\n",
    "    - sigmoidal(x): valor de la función sigmoidal en x\n",
    "    \"\"\"\n",
    "    return 1 / (1 + np.exp(-x))\n",
    "\n",
    "# La vectorización de la función sigmoidal\n",
    "vec_sigmoid = np.vectorize(sigmoid)"
   ]
  },
  {
   "cell_type": "code",
   "execution_count": 55,
   "metadata": {},
   "outputs": [],
   "source": [
    "def logistic_cost(X, y, theta):\n",
    "    \"\"\"\n",
    "    Función [logistic_cost]: Calcula la función de costo de la regresión logística\n",
    "    Entradas:\n",
    "    - X: El conjunto de datos (es obligatorio que tenga un vector bias asociado)\n",
    "         array de dimensión (N,M)\n",
    "    - y: El vector de predicción del conjunto de datos, array de dimensión (N,) o (N,1)\n",
    "    - theta: El vector de pesos de la regresión logística, array de dimensión (M,) o (M,1)\n",
    "    Salidas:\n",
    "    - J(theta): la función de costo de la regresión logística\n",
    "    \"\"\"\n",
    "    if X.shape[1] != theta.shape[0]:\n",
    "        print(\"Err: el número de columnas de 'X' debe coincidir con el de filas de 'theta'\")\n",
    "        # retornamos -1 para indicar error\n",
    "        return -1\n",
    "    \n",
    "    y_copy = y.copy()\n",
    "    theta_copy = theta.copy()\n",
    "    if y.ndim != 2:\n",
    "        y_copy = y_copy.reshape((y.shape[0], 1))    \n",
    "    if theta.ndim != 2:\n",
    "        theta_copy = theta_copy.reshape((theta.shape[0], 1))\n",
    "  \n",
    "    m = y.shape[0]\n",
    "    # usamos la vectorización de la función sigmoidal\n",
    "    h_theta = vec_sigmoid(X @ theta_copy)\n",
    "    J = (y_copy * np.log(h_theta)) + ((1 - y_copy) * np.log(1 - h_theta))\n",
    "    J = -1 / m * J\n",
    "    return J.sum() # retornamos la suma de todos los elementos del vector de costo\n",
    "\n",
    "\n",
    "def logistic_gradient_descent_step(X, y, theta, alpha):\n",
    "    \"\"\"\n",
    "    Función [logistic_gradient_descent_step]: Ejecuta el paso del gradiente descendiente para la regresión logística\n",
    "    Entradas:\n",
    "    - X: El conjunto de datos (es obligatorio que tenga un vector bias asociado)\n",
    "         array de dimensión (N,M).\n",
    "    - y: El vector de predicción del conjunto de datos, array de dimensión (N,) o (N,1).\n",
    "    - theta: El vector de pesos de la regresión logística, array de dimensión (M,) o (M,1).\n",
    "    - alpha: El hiperparámetro (escalar) usado para escalar el vector gradiente.\n",
    "    Salidas:\n",
    "    - new_theta: El nuevo valor del vector de pesos theta.\n",
    "    \"\"\"\n",
    "    y_copy = y.copy()\n",
    "    theta_copy = theta.copy()\n",
    "    if y.ndim != 2:\n",
    "        y_copy = y_copy.reshape((y.shape[0], 1))    \n",
    "    if theta.ndim != 2:\n",
    "        theta_copy = theta_copy.reshape((theta.shape[0], 1))\n",
    "    m = y.shape[0]\n",
    "    h_theta = vec_sigmoid(X @ theta_copy)\n",
    "    new_theta = theta_copy - (alpha / m) * (X.T @ (h_theta - y))\n",
    "    return new_theta\n",
    "\n",
    "def predict(y, thr= 0.5):\n",
    "    \"\"\"\n",
    "    Función [predict]: Esta función obtiene el vector de predicción basándonos en un valor umbral, los valores predecidos\n",
    "                       se encuentran en el conjunto {0,1}.\n",
    "    Entradas:\n",
    "    - y: El vector sobre el cual se hará la predicción binaria, array de dimensión (N,).\n",
    "    - thr: El umbral (threshold) para considerar como 1 o 0 la predicción del regresor logístico (0.5 por defecto)\n",
    "           p.ej. si thr=0.5 y P(X[i])=0.99, entonces como P(X[i]) >= thr, entonces Pred(P(X[i]))=1\n",
    "           si P(X[i])=0.23, entonces Pred(P(X[i]))=0.\n",
    "    Salidas:\n",
    "    - y_pred: El vector con los valores binarios predecidos, array de dimensión (N,).\n",
    "    \"\"\"\n",
    "    return (y >= thr).astype(\"int32\").reshape(-1)  \n",
    "\n",
    "def logistic_regressor(X, y, alpha, it=100, thr= 0.5):\n",
    "    \"\"\"\n",
    "    Función [logistic_regressor]: Ejecuta la regresión logística sobre un conjunto de datos dado un hiperparámetro\n",
    "                                  y una cantidad determindad de iteraciones\n",
    "    Entradas:\n",
    "    - X: El conjunto de datos (es obligatorio que tenga un vector bias asociado) array de dimensión (N,M),\n",
    "         donde M es la cantidad de variables a analizar.\n",
    "    - y: El vector de predicción del conjunto de datos, array de dimensión (N,).\n",
    "    - alpha: El hiperparámetro (escalar) usado para escalar el vector gradiente.\n",
    "    - it: Cantidad de iteraciones (100 por defecto).\n",
    "    - thr: El umbral (threshold) para considerar como 1 o 0 la predicción del regresor logístico (0.5 por defecto)\n",
    "           p.ej. si thr=0.5 y P(X[i])=0.99, entonces como P(X[i]) >= thr, entonces Pred(P(X[i]))=1\n",
    "           si P(X[i])=0.23, entonces Pred(P(X[i]))=0\n",
    "    Salidas:\n",
    "    - theta: El vector con los pesos entrenados, array de dimensión (M+1,). \n",
    "    - y_pred: Array de dimensión (M,) con las predicciones del regresor logístico basado en el threshold.\n",
    "    - error: Lista de tamaño \"it\" con los valores de la función de costo por cada iteración.\n",
    "    \"\"\"\n",
    "\n",
    "    # primero cambiamos la dimensión de y para que sea un vector columna\n",
    "    y_ = y.reshape((y.shape[0], 1))\n",
    "    # lo que realizaremos en este paso es agregar una columna de 1s que será el bias de nuestro\n",
    "    # modelo\n",
    "    X_bias = add_bias(X)\n",
    "    # inicializamos el vector theta (vector columna) todos 1, sumamos 1 ya que se necesita\n",
    "    # el bias\n",
    "    theta = np.ones((X.shape[1]+1, 1)) \n",
    "\n",
    "\n",
    "    errors = []\n",
    "    for i in range(it):\n",
    "        # Primero calculamos el costo en cada iteración\n",
    "        errors.append(logistic_cost(X_bias, y_, theta))\n",
    "        # luego actualizamos el vector theta\n",
    "        theta = logistic_gradient_descent_step(X_bias, y_, theta, alpha)\n",
    "        \n",
    "    pred = predict(vec_sigmoid(X_bias @ theta), thr)\n",
    "    theta = theta.reshape(theta.shape[0])\n",
    "    \n",
    "    # theta = [0_0, 0_1, 0_2, ..., 0_n] (\"0\" repreenta el simbolo theta)\n",
    "    # errors = [e_0, e_1, e_2, ..., e_it] (\"e_i\" error en la iteración i)\n",
    "    return theta, pred, errors "
   ]
  },
  {
   "cell_type": "code",
   "execution_count": 56,
   "metadata": {},
   "outputs": [
    {
     "name": "stdout",
     "output_type": "stream",
     "text": [
      "Thetas:  [-1.76274668  1.44204799  0.86258406  0.61938517  0.64680413 -0.46499228\n",
      " -0.2977544 ]\n",
      "Costos:  [0.13731409152574936, 0.13677969418174443, 0.13625223246068469, 0.13573158118557438, 0.13521761802849291]\n"
     ]
    }
   ],
   "source": [
    "# Ahora aplicaremos la regresión logística\n",
    "it = 200\n",
    "alpha = 0.05\n",
    "theta, y_pred, costs = logistic_regressor(desercion_prepared, desercion_labels.to_numpy(), alpha, it, 0.5)\n",
    "print(\"Thetas: \", theta) # el vector de pesos\n",
    "print(\"Costos: \", costs[-5:]) # los últimos 5 costos"
   ]
  },
  {
   "cell_type": "code",
   "execution_count": 57,
   "metadata": {},
   "outputs": [
    {
     "name": "stdout",
     "output_type": "stream",
     "text": [
      "y:  [0 0 0 0 0 0 0 0 0 0 0 0 0 0 0 0 0 0 0 0 0 0 0 0 0 0 0 0 0 0 0 0 0 0 0 0 0\n",
      " 0 0 0 0 0 0 0 0 0 0 0 0 0 0 0 0 0 0 0 0 1 0 0 0 0 0 0 0 0 0 0 0 0 0 0 1 0\n",
      " 0 0 0 0 0 0 0 0 0 0 0 0 0 0 0 0 0 0 0 1 0 0 0 0 0 0]\n",
      "y_pred:  [0 0 0 0 0 0 0 0 0 0 0 0 0 0 0 0 0 0 0 0 0 0 0 0 0 0 0 0 0 0 0 0 0 0 0 0 0\n",
      " 0 0 0 0 0 0 0 0 0 0 0 0 0 0 0 0 0 0 0 0 1 0 0 0 0 0 0 0 0 0 0 0 0 0 0 1 0\n",
      " 0 0 0 0 0 0 0 0 0 0 0 0 0 0 0 0 0 0 0 1 0 0 0 0 0 0]\n"
     ]
    }
   ],
   "source": [
    "# mostrando unas predicciones\n",
    "print(\"y: \", desercion_labels.to_numpy()[:100])\n",
    "print(\"y_pred: \", y_pred[:100])"
   ]
  },
  {
   "cell_type": "code",
   "execution_count": 58,
   "metadata": {},
   "outputs": [
    {
     "data": {
      "text/plain": [
       "array([[3023,    1],\n",
       "       [  44,   82]], dtype=int64)"
      ]
     },
     "execution_count": 58,
     "metadata": {},
     "output_type": "execute_result"
    }
   ],
   "source": [
    "from sklearn.metrics import confusion_matrix\n",
    "\n",
    "# sacando la matriz de confusión\n",
    "confusion_matrix(desercion_labels.to_numpy(), y_pred)"
   ]
  },
  {
   "cell_type": "code",
   "execution_count": 59,
   "metadata": {},
   "outputs": [
    {
     "name": "stdout",
     "output_type": "stream",
     "text": [
      "Particiones (k-fold):  5\n",
      "Metrics for logistic regressor (own implementation)\n",
      "Showing scores of metric F1\n",
      "Scores: [0.75       0.68421053 0.75       0.84444444 0.81818182]\n",
      "Mean: 0.7693673577884104\n",
      "Standard deviation: 0.05660617550430727\n",
      "Showing scores of metric Precision\n",
      "Scores: [1.   1.   1.   0.95 1.  ]\n",
      "Mean: 0.99\n",
      "Standard deviation: 0.020000000000000018\n",
      "Showing scores of metric Recall\n",
      "Scores: [0.6        0.52       0.6        0.76       0.69230769]\n",
      "Mean: 0.6344615384615386\n",
      "Standard deviation: 0.08316576446289799\n"
     ]
    }
   ],
   "source": [
    "# Ahora aplicare mi implementación con k-folds cross validation\n",
    "# utilizaremos una separación estratificada ya que nuestro conjunto de datos no es balanceada\n",
    "from sklearn.model_selection import StratifiedKFold\n",
    "from sklearn.metrics import f1_score\n",
    "from sklearn.metrics import precision_score\n",
    "from sklearn.metrics import recall_score\n",
    "\n",
    "skf = StratifiedKFold(n_splits=5) # 5 k-folds\n",
    "print(\"Particiones (k-fold): \", skf.get_n_splits(desercion_prepared, desercion_labels))\n",
    "\n",
    "f1_list = []\n",
    "precision_list = []\n",
    "recall_list = []\n",
    "for train_index, test_index in skf.split(desercion_prepared, desercion_labels):\n",
    "    X_train, X_test = desercion_prepared[train_index], desercion_prepared[test_index]\n",
    "    y_train, y_test = desercion_labels.to_numpy()[train_index], desercion_labels.to_numpy()[test_index]\n",
    "    theta, _, _ = logistic_regressor(X_train, y_train, 0.05, 200, 0.5)\n",
    "    # y_pred es el vector de predicción de nuestros datos\n",
    "    y_pred = predict((vec_sigmoid(add_bias(X_test) @ theta.reshape((theta.shape[0], 1)))).reshape(-1))\n",
    "    f1_list.append(f1_score(y_test, y_pred))\n",
    "    precision_list.append(precision_score(y_test, y_pred))\n",
    "    recall_list.append(recall_score(y_test, y_pred))\n",
    "    \n",
    "print(\"Metrics for logistic regressor (own implementation)\")\n",
    "display_scores(np.array(f1_list), \"F1\")\n",
    "display_scores(np.array(precision_list), \"Precision\")\n",
    "display_scores(np.array(recall_list), \"Recall\")"
   ]
  },
  {
   "cell_type": "code",
   "execution_count": 60,
   "metadata": {},
   "outputs": [
    {
     "name": "stdout",
     "output_type": "stream",
     "text": [
      "Metrics for Logistic Regression classifier (scikit learn implementation)\n",
      "Showing scores of metric 'F1'\n",
      "Scores: [0.80952381 0.75       0.79069767 0.86363636 0.81818182]\n",
      "Mean: 0.8064079331521192\n",
      "Standard deviation: 0.037019166554405715\n",
      "Showing scores of metric 'Precision'\n",
      "Scores: [1.         1.         0.94444444 1.         1.        ]\n",
      "Mean: 0.9888888888888889\n",
      "Standard deviation: 0.022222222222222233\n",
      "Showing scores of metric 'Recall'\n",
      "Scores: [0.68       0.6        0.68       0.76       0.69230769]\n",
      "Mean: 0.6824615384615385\n",
      "Standard deviation: 0.05083538813061757\n"
     ]
    }
   ],
   "source": [
    "# Comparando con la implementación de (Scikit Learn)\n",
    "from sklearn.linear_model import LogisticRegression\n",
    "logistic_reg=LogisticRegression(random_state=42, max_iter=200)\n",
    "print(\"Metrics for Logistic Regression classifier (scikit learn implementation)\")\n",
    "get_k_fold_prediction_metrics(logistic_reg, desercion_prepared, desercion_labels)"
   ]
  },
  {
   "cell_type": "markdown",
   "metadata": {},
   "source": [
    "El modelo que mejor resultado dió en la medida F1 fué _Support Vector Machine_ por lo que haremos el _fine tunning_ sobre ese modelo."
   ]
  },
  {
   "cell_type": "markdown",
   "metadata": {},
   "source": [
    "# 6) Ajuste del modelo (_fine tunning_)"
   ]
  },
  {
   "cell_type": "code",
   "execution_count": 61,
   "metadata": {},
   "outputs": [
    {
     "data": {
      "text/plain": [
       "GridSearchCV(cv=5, estimator=SVC(),\n",
       "             param_grid=[{'C': [1, 10, 100, 1000], 'kernel': ['linear']},\n",
       "                         {'C': [1, 10, 100, 1000], 'gamma': [0.001, 0.0001],\n",
       "                          'kernel': ['rbf']}],\n",
       "             return_train_score=True, scoring='f1')"
      ]
     },
     "execution_count": 61,
     "metadata": {},
     "output_type": "execute_result"
    }
   ],
   "source": [
    "from sklearn.model_selection import GridSearchCV\n",
    "\n",
    "param_grid = [\n",
    "  {'C': [1, 10, 100, 1000], 'kernel': ['linear']},\n",
    "  {'C': [1, 10, 100, 1000], 'gamma': [0.001, 0.0001], 'kernel': ['rbf']},\n",
    " ]\n",
    "\n",
    "\n",
    "svc_classifier = SVC()\n",
    "# train across 5 folds, that's a total of (12+6)*5=90 rounds of training \n",
    "grid_search = GridSearchCV(svc_classifier, param_grid, cv=5,\n",
    "                           scoring='f1', return_train_score=True)\n",
    "grid_search.fit(desercion_prepared, desercion_labels)"
   ]
  },
  {
   "cell_type": "code",
   "execution_count": 62,
   "metadata": {},
   "outputs": [
    {
     "data": {
      "text/plain": [
       "{'C': 1, 'kernel': 'linear'}"
      ]
     },
     "execution_count": 62,
     "metadata": {},
     "output_type": "execute_result"
    }
   ],
   "source": [
    "grid_search.best_params_ # imprimimos los mejores parámetros de la búsqueda"
   ]
  },
  {
   "cell_type": "code",
   "execution_count": 63,
   "metadata": {},
   "outputs": [
    {
     "data": {
      "text/plain": [
       "SVC(C=1, kernel='linear')"
      ]
     },
     "execution_count": 63,
     "metadata": {},
     "output_type": "execute_result"
    }
   ],
   "source": [
    "grid_search.best_estimator_"
   ]
  },
  {
   "cell_type": "markdown",
   "metadata": {},
   "source": [
    "Observemos los punajes en cada combinación de hiperparámetro probada durante la búsqueda en _grid_:"
   ]
  },
  {
   "cell_type": "code",
   "execution_count": 64,
   "metadata": {},
   "outputs": [
    {
     "name": "stdout",
     "output_type": "stream",
     "text": [
      "nan {'C': 1, 'kernel': 'linear'}\n",
      "nan {'C': 10, 'kernel': 'linear'}\n",
      "nan {'C': 100, 'kernel': 'linear'}\n",
      "nan {'C': 1000, 'kernel': 'linear'}\n",
      "nan {'C': 1, 'gamma': 0.001, 'kernel': 'rbf'}\n",
      "-0.0 {'C': 1, 'gamma': 0.0001, 'kernel': 'rbf'}\n",
      "nan {'C': 10, 'gamma': 0.001, 'kernel': 'rbf'}\n",
      "nan {'C': 10, 'gamma': 0.0001, 'kernel': 'rbf'}\n",
      "nan {'C': 100, 'gamma': 0.001, 'kernel': 'rbf'}\n",
      "nan {'C': 100, 'gamma': 0.0001, 'kernel': 'rbf'}\n",
      "nan {'C': 1000, 'gamma': 0.001, 'kernel': 'rbf'}\n",
      "nan {'C': 1000, 'gamma': 0.0001, 'kernel': 'rbf'}\n"
     ]
    },
    {
     "name": "stderr",
     "output_type": "stream",
     "text": [
      "<ipython-input-64-4ec637f9de24>:3: RuntimeWarning: invalid value encountered in sqrt\n",
      "  print(np.sqrt(-mean_score), params)\n"
     ]
    }
   ],
   "source": [
    "cvres = grid_search.cv_results_\n",
    "for mean_score, params in zip(cvres[\"mean_test_score\"], cvres[\"params\"]):\n",
    "    print(np.sqrt(-mean_score), params)"
   ]
  },
  {
   "cell_type": "code",
   "execution_count": 65,
   "metadata": {
    "scrolled": true
   },
   "outputs": [
    {
     "data": {
      "text/html": [
       "<div>\n",
       "<style scoped>\n",
       "    .dataframe tbody tr th:only-of-type {\n",
       "        vertical-align: middle;\n",
       "    }\n",
       "\n",
       "    .dataframe tbody tr th {\n",
       "        vertical-align: top;\n",
       "    }\n",
       "\n",
       "    .dataframe thead th {\n",
       "        text-align: right;\n",
       "    }\n",
       "</style>\n",
       "<table border=\"1\" class=\"dataframe\">\n",
       "  <thead>\n",
       "    <tr style=\"text-align: right;\">\n",
       "      <th></th>\n",
       "      <th>mean_fit_time</th>\n",
       "      <th>std_fit_time</th>\n",
       "      <th>mean_score_time</th>\n",
       "      <th>std_score_time</th>\n",
       "      <th>param_C</th>\n",
       "      <th>param_kernel</th>\n",
       "      <th>param_gamma</th>\n",
       "      <th>params</th>\n",
       "      <th>split0_test_score</th>\n",
       "      <th>split1_test_score</th>\n",
       "      <th>...</th>\n",
       "      <th>mean_test_score</th>\n",
       "      <th>std_test_score</th>\n",
       "      <th>rank_test_score</th>\n",
       "      <th>split0_train_score</th>\n",
       "      <th>split1_train_score</th>\n",
       "      <th>split2_train_score</th>\n",
       "      <th>split3_train_score</th>\n",
       "      <th>split4_train_score</th>\n",
       "      <th>mean_train_score</th>\n",
       "      <th>std_train_score</th>\n",
       "    </tr>\n",
       "  </thead>\n",
       "  <tbody>\n",
       "    <tr>\n",
       "      <th>0</th>\n",
       "      <td>0.006592</td>\n",
       "      <td>0.001358</td>\n",
       "      <td>0.002801</td>\n",
       "      <td>0.000751</td>\n",
       "      <td>1</td>\n",
       "      <td>linear</td>\n",
       "      <td>NaN</td>\n",
       "      <td>{'C': 1, 'kernel': 'linear'}</td>\n",
       "      <td>0.750000</td>\n",
       "      <td>0.750000</td>\n",
       "      <td>...</td>\n",
       "      <td>0.798268</td>\n",
       "      <td>0.043488</td>\n",
       "      <td>1</td>\n",
       "      <td>0.811765</td>\n",
       "      <td>0.811765</td>\n",
       "      <td>0.797619</td>\n",
       "      <td>0.783133</td>\n",
       "      <td>0.795181</td>\n",
       "      <td>0.799892</td>\n",
       "      <td>0.010864</td>\n",
       "    </tr>\n",
       "    <tr>\n",
       "      <th>1</th>\n",
       "      <td>0.019586</td>\n",
       "      <td>0.004073</td>\n",
       "      <td>0.002202</td>\n",
       "      <td>0.000399</td>\n",
       "      <td>10</td>\n",
       "      <td>linear</td>\n",
       "      <td>NaN</td>\n",
       "      <td>{'C': 10, 'kernel': 'linear'}</td>\n",
       "      <td>0.750000</td>\n",
       "      <td>0.750000</td>\n",
       "      <td>...</td>\n",
       "      <td>0.798268</td>\n",
       "      <td>0.043488</td>\n",
       "      <td>1</td>\n",
       "      <td>0.811765</td>\n",
       "      <td>0.811765</td>\n",
       "      <td>0.797619</td>\n",
       "      <td>0.783133</td>\n",
       "      <td>0.795181</td>\n",
       "      <td>0.799892</td>\n",
       "      <td>0.010864</td>\n",
       "    </tr>\n",
       "    <tr>\n",
       "      <th>2</th>\n",
       "      <td>10.437060</td>\n",
       "      <td>11.787684</td>\n",
       "      <td>0.002000</td>\n",
       "      <td>0.000002</td>\n",
       "      <td>100</td>\n",
       "      <td>linear</td>\n",
       "      <td>NaN</td>\n",
       "      <td>{'C': 100, 'kernel': 'linear'}</td>\n",
       "      <td>0.750000</td>\n",
       "      <td>0.750000</td>\n",
       "      <td>...</td>\n",
       "      <td>0.798268</td>\n",
       "      <td>0.043488</td>\n",
       "      <td>1</td>\n",
       "      <td>0.811765</td>\n",
       "      <td>0.811765</td>\n",
       "      <td>0.797619</td>\n",
       "      <td>0.783133</td>\n",
       "      <td>0.795181</td>\n",
       "      <td>0.799892</td>\n",
       "      <td>0.010864</td>\n",
       "    </tr>\n",
       "    <tr>\n",
       "      <th>3</th>\n",
       "      <td>75.891885</td>\n",
       "      <td>15.252101</td>\n",
       "      <td>0.001799</td>\n",
       "      <td>0.000402</td>\n",
       "      <td>1000</td>\n",
       "      <td>linear</td>\n",
       "      <td>NaN</td>\n",
       "      <td>{'C': 1000, 'kernel': 'linear'}</td>\n",
       "      <td>0.750000</td>\n",
       "      <td>0.750000</td>\n",
       "      <td>...</td>\n",
       "      <td>0.798268</td>\n",
       "      <td>0.043488</td>\n",
       "      <td>1</td>\n",
       "      <td>0.811765</td>\n",
       "      <td>0.811765</td>\n",
       "      <td>0.797619</td>\n",
       "      <td>0.783133</td>\n",
       "      <td>0.795181</td>\n",
       "      <td>0.799892</td>\n",
       "      <td>0.010864</td>\n",
       "    </tr>\n",
       "    <tr>\n",
       "      <th>4</th>\n",
       "      <td>0.014798</td>\n",
       "      <td>0.001168</td>\n",
       "      <td>0.003994</td>\n",
       "      <td>0.000623</td>\n",
       "      <td>1</td>\n",
       "      <td>rbf</td>\n",
       "      <td>0.001</td>\n",
       "      <td>{'C': 1, 'gamma': 0.001, 'kernel': 'rbf'}</td>\n",
       "      <td>0.529412</td>\n",
       "      <td>0.571429</td>\n",
       "      <td>...</td>\n",
       "      <td>0.617787</td>\n",
       "      <td>0.079972</td>\n",
       "      <td>10</td>\n",
       "      <td>0.644295</td>\n",
       "      <td>0.635135</td>\n",
       "      <td>0.635135</td>\n",
       "      <td>0.587413</td>\n",
       "      <td>0.611111</td>\n",
       "      <td>0.622618</td>\n",
       "      <td>0.020761</td>\n",
       "    </tr>\n",
       "    <tr>\n",
       "      <th>5</th>\n",
       "      <td>0.016194</td>\n",
       "      <td>0.000769</td>\n",
       "      <td>0.004006</td>\n",
       "      <td>0.000014</td>\n",
       "      <td>1</td>\n",
       "      <td>rbf</td>\n",
       "      <td>0.0001</td>\n",
       "      <td>{'C': 1, 'gamma': 0.0001, 'kernel': 'rbf'}</td>\n",
       "      <td>0.000000</td>\n",
       "      <td>0.000000</td>\n",
       "      <td>...</td>\n",
       "      <td>0.000000</td>\n",
       "      <td>0.000000</td>\n",
       "      <td>12</td>\n",
       "      <td>0.000000</td>\n",
       "      <td>0.000000</td>\n",
       "      <td>0.000000</td>\n",
       "      <td>0.000000</td>\n",
       "      <td>0.000000</td>\n",
       "      <td>0.000000</td>\n",
       "      <td>0.000000</td>\n",
       "    </tr>\n",
       "    <tr>\n",
       "      <th>6</th>\n",
       "      <td>0.030794</td>\n",
       "      <td>0.005997</td>\n",
       "      <td>0.007200</td>\n",
       "      <td>0.004444</td>\n",
       "      <td>10</td>\n",
       "      <td>rbf</td>\n",
       "      <td>0.001</td>\n",
       "      <td>{'C': 10, 'gamma': 0.001, 'kernel': 'rbf'}</td>\n",
       "      <td>0.750000</td>\n",
       "      <td>0.750000</td>\n",
       "      <td>...</td>\n",
       "      <td>0.798268</td>\n",
       "      <td>0.043488</td>\n",
       "      <td>1</td>\n",
       "      <td>0.811765</td>\n",
       "      <td>0.811765</td>\n",
       "      <td>0.797619</td>\n",
       "      <td>0.783133</td>\n",
       "      <td>0.795181</td>\n",
       "      <td>0.799892</td>\n",
       "      <td>0.010864</td>\n",
       "    </tr>\n",
       "    <tr>\n",
       "      <th>7</th>\n",
       "      <td>0.014984</td>\n",
       "      <td>0.001091</td>\n",
       "      <td>0.003194</td>\n",
       "      <td>0.000388</td>\n",
       "      <td>10</td>\n",
       "      <td>rbf</td>\n",
       "      <td>0.0001</td>\n",
       "      <td>{'C': 10, 'gamma': 0.0001, 'kernel': 'rbf'}</td>\n",
       "      <td>0.529412</td>\n",
       "      <td>0.571429</td>\n",
       "      <td>...</td>\n",
       "      <td>0.617787</td>\n",
       "      <td>0.079972</td>\n",
       "      <td>10</td>\n",
       "      <td>0.644295</td>\n",
       "      <td>0.635135</td>\n",
       "      <td>0.635135</td>\n",
       "      <td>0.587413</td>\n",
       "      <td>0.611111</td>\n",
       "      <td>0.622618</td>\n",
       "      <td>0.020761</td>\n",
       "    </tr>\n",
       "    <tr>\n",
       "      <th>8</th>\n",
       "      <td>0.111194</td>\n",
       "      <td>0.032692</td>\n",
       "      <td>0.005987</td>\n",
       "      <td>0.001673</td>\n",
       "      <td>100</td>\n",
       "      <td>rbf</td>\n",
       "      <td>0.001</td>\n",
       "      <td>{'C': 100, 'gamma': 0.001, 'kernel': 'rbf'}</td>\n",
       "      <td>0.750000</td>\n",
       "      <td>0.750000</td>\n",
       "      <td>...</td>\n",
       "      <td>0.798268</td>\n",
       "      <td>0.043488</td>\n",
       "      <td>1</td>\n",
       "      <td>0.811765</td>\n",
       "      <td>0.811765</td>\n",
       "      <td>0.797619</td>\n",
       "      <td>0.783133</td>\n",
       "      <td>0.795181</td>\n",
       "      <td>0.799892</td>\n",
       "      <td>0.010864</td>\n",
       "    </tr>\n",
       "    <tr>\n",
       "      <th>9</th>\n",
       "      <td>0.034998</td>\n",
       "      <td>0.002595</td>\n",
       "      <td>0.004401</td>\n",
       "      <td>0.000474</td>\n",
       "      <td>100</td>\n",
       "      <td>rbf</td>\n",
       "      <td>0.0001</td>\n",
       "      <td>{'C': 100, 'gamma': 0.0001, 'kernel': 'rbf'}</td>\n",
       "      <td>0.750000</td>\n",
       "      <td>0.750000</td>\n",
       "      <td>...</td>\n",
       "      <td>0.798268</td>\n",
       "      <td>0.043488</td>\n",
       "      <td>1</td>\n",
       "      <td>0.811765</td>\n",
       "      <td>0.811765</td>\n",
       "      <td>0.797619</td>\n",
       "      <td>0.783133</td>\n",
       "      <td>0.795181</td>\n",
       "      <td>0.799892</td>\n",
       "      <td>0.010864</td>\n",
       "    </tr>\n",
       "    <tr>\n",
       "      <th>10</th>\n",
       "      <td>0.410203</td>\n",
       "      <td>0.186940</td>\n",
       "      <td>0.003392</td>\n",
       "      <td>0.000494</td>\n",
       "      <td>1000</td>\n",
       "      <td>rbf</td>\n",
       "      <td>0.001</td>\n",
       "      <td>{'C': 1000, 'gamma': 0.001, 'kernel': 'rbf'}</td>\n",
       "      <td>0.750000</td>\n",
       "      <td>0.750000</td>\n",
       "      <td>...</td>\n",
       "      <td>0.798268</td>\n",
       "      <td>0.043488</td>\n",
       "      <td>1</td>\n",
       "      <td>0.811765</td>\n",
       "      <td>0.811765</td>\n",
       "      <td>0.797619</td>\n",
       "      <td>0.783133</td>\n",
       "      <td>0.795181</td>\n",
       "      <td>0.799892</td>\n",
       "      <td>0.010864</td>\n",
       "    </tr>\n",
       "    <tr>\n",
       "      <th>11</th>\n",
       "      <td>0.105598</td>\n",
       "      <td>0.009719</td>\n",
       "      <td>0.004016</td>\n",
       "      <td>0.000621</td>\n",
       "      <td>1000</td>\n",
       "      <td>rbf</td>\n",
       "      <td>0.0001</td>\n",
       "      <td>{'C': 1000, 'gamma': 0.0001, 'kernel': 'rbf'}</td>\n",
       "      <td>0.750000</td>\n",
       "      <td>0.750000</td>\n",
       "      <td>...</td>\n",
       "      <td>0.798268</td>\n",
       "      <td>0.043488</td>\n",
       "      <td>1</td>\n",
       "      <td>0.811765</td>\n",
       "      <td>0.811765</td>\n",
       "      <td>0.797619</td>\n",
       "      <td>0.783133</td>\n",
       "      <td>0.795181</td>\n",
       "      <td>0.799892</td>\n",
       "      <td>0.010864</td>\n",
       "    </tr>\n",
       "  </tbody>\n",
       "</table>\n",
       "<p>12 rows × 23 columns</p>\n",
       "</div>"
      ],
      "text/plain": [
       "    mean_fit_time  std_fit_time  mean_score_time  std_score_time param_C  \\\n",
       "0        0.006592      0.001358         0.002801        0.000751       1   \n",
       "1        0.019586      0.004073         0.002202        0.000399      10   \n",
       "2       10.437060     11.787684         0.002000        0.000002     100   \n",
       "3       75.891885     15.252101         0.001799        0.000402    1000   \n",
       "4        0.014798      0.001168         0.003994        0.000623       1   \n",
       "5        0.016194      0.000769         0.004006        0.000014       1   \n",
       "6        0.030794      0.005997         0.007200        0.004444      10   \n",
       "7        0.014984      0.001091         0.003194        0.000388      10   \n",
       "8        0.111194      0.032692         0.005987        0.001673     100   \n",
       "9        0.034998      0.002595         0.004401        0.000474     100   \n",
       "10       0.410203      0.186940         0.003392        0.000494    1000   \n",
       "11       0.105598      0.009719         0.004016        0.000621    1000   \n",
       "\n",
       "   param_kernel param_gamma                                         params  \\\n",
       "0        linear         NaN                   {'C': 1, 'kernel': 'linear'}   \n",
       "1        linear         NaN                  {'C': 10, 'kernel': 'linear'}   \n",
       "2        linear         NaN                 {'C': 100, 'kernel': 'linear'}   \n",
       "3        linear         NaN                {'C': 1000, 'kernel': 'linear'}   \n",
       "4           rbf       0.001      {'C': 1, 'gamma': 0.001, 'kernel': 'rbf'}   \n",
       "5           rbf      0.0001     {'C': 1, 'gamma': 0.0001, 'kernel': 'rbf'}   \n",
       "6           rbf       0.001     {'C': 10, 'gamma': 0.001, 'kernel': 'rbf'}   \n",
       "7           rbf      0.0001    {'C': 10, 'gamma': 0.0001, 'kernel': 'rbf'}   \n",
       "8           rbf       0.001    {'C': 100, 'gamma': 0.001, 'kernel': 'rbf'}   \n",
       "9           rbf      0.0001   {'C': 100, 'gamma': 0.0001, 'kernel': 'rbf'}   \n",
       "10          rbf       0.001   {'C': 1000, 'gamma': 0.001, 'kernel': 'rbf'}   \n",
       "11          rbf      0.0001  {'C': 1000, 'gamma': 0.0001, 'kernel': 'rbf'}   \n",
       "\n",
       "    split0_test_score  split1_test_score  ...  mean_test_score  \\\n",
       "0            0.750000           0.750000  ...         0.798268   \n",
       "1            0.750000           0.750000  ...         0.798268   \n",
       "2            0.750000           0.750000  ...         0.798268   \n",
       "3            0.750000           0.750000  ...         0.798268   \n",
       "4            0.529412           0.571429  ...         0.617787   \n",
       "5            0.000000           0.000000  ...         0.000000   \n",
       "6            0.750000           0.750000  ...         0.798268   \n",
       "7            0.529412           0.571429  ...         0.617787   \n",
       "8            0.750000           0.750000  ...         0.798268   \n",
       "9            0.750000           0.750000  ...         0.798268   \n",
       "10           0.750000           0.750000  ...         0.798268   \n",
       "11           0.750000           0.750000  ...         0.798268   \n",
       "\n",
       "    std_test_score  rank_test_score  split0_train_score  split1_train_score  \\\n",
       "0         0.043488                1            0.811765            0.811765   \n",
       "1         0.043488                1            0.811765            0.811765   \n",
       "2         0.043488                1            0.811765            0.811765   \n",
       "3         0.043488                1            0.811765            0.811765   \n",
       "4         0.079972               10            0.644295            0.635135   \n",
       "5         0.000000               12            0.000000            0.000000   \n",
       "6         0.043488                1            0.811765            0.811765   \n",
       "7         0.079972               10            0.644295            0.635135   \n",
       "8         0.043488                1            0.811765            0.811765   \n",
       "9         0.043488                1            0.811765            0.811765   \n",
       "10        0.043488                1            0.811765            0.811765   \n",
       "11        0.043488                1            0.811765            0.811765   \n",
       "\n",
       "    split2_train_score  split3_train_score  split4_train_score  \\\n",
       "0             0.797619            0.783133            0.795181   \n",
       "1             0.797619            0.783133            0.795181   \n",
       "2             0.797619            0.783133            0.795181   \n",
       "3             0.797619            0.783133            0.795181   \n",
       "4             0.635135            0.587413            0.611111   \n",
       "5             0.000000            0.000000            0.000000   \n",
       "6             0.797619            0.783133            0.795181   \n",
       "7             0.635135            0.587413            0.611111   \n",
       "8             0.797619            0.783133            0.795181   \n",
       "9             0.797619            0.783133            0.795181   \n",
       "10            0.797619            0.783133            0.795181   \n",
       "11            0.797619            0.783133            0.795181   \n",
       "\n",
       "    mean_train_score  std_train_score  \n",
       "0           0.799892         0.010864  \n",
       "1           0.799892         0.010864  \n",
       "2           0.799892         0.010864  \n",
       "3           0.799892         0.010864  \n",
       "4           0.622618         0.020761  \n",
       "5           0.000000         0.000000  \n",
       "6           0.799892         0.010864  \n",
       "7           0.622618         0.020761  \n",
       "8           0.799892         0.010864  \n",
       "9           0.799892         0.010864  \n",
       "10          0.799892         0.010864  \n",
       "11          0.799892         0.010864  \n",
       "\n",
       "[12 rows x 23 columns]"
      ]
     },
     "execution_count": 65,
     "metadata": {},
     "output_type": "execute_result"
    }
   ],
   "source": [
    "pd.DataFrame(grid_search.cv_results_)"
   ]
  },
  {
   "cell_type": "markdown",
   "metadata": {},
   "source": [
    "# 7) Presentación de la solución"
   ]
  },
  {
   "cell_type": "code",
   "execution_count": 66,
   "metadata": {},
   "outputs": [
    {
     "data": {
      "text/plain": [
       "0.8387096774193548"
      ]
     },
     "execution_count": 66,
     "metadata": {},
     "output_type": "execute_result"
    }
   ],
   "source": [
    "# predicción final con el score F1\n",
    "final_model = grid_search.best_estimator_\n",
    "\n",
    "X_test = strat_test_set.drop(\"desercion\", axis=1)\n",
    "y_test = strat_test_set[\"desercion\"].copy()\n",
    "\n",
    "X_test_prepared = full_pipeline.transform(X_test)\n",
    "final_predictions = final_model.predict(X_test_prepared)\n",
    "\n",
    "final_f1 = f1_score(y_test, final_predictions)\n",
    "final_f1"
   ]
  }
 ],
 "metadata": {
  "kernelspec": {
   "display_name": "Python 3",
   "language": "python",
   "name": "python3"
  },
  "language_info": {
   "codemirror_mode": {
    "name": "ipython",
    "version": 3
   },
   "file_extension": ".py",
   "mimetype": "text/x-python",
   "name": "python",
   "nbconvert_exporter": "python",
   "pygments_lexer": "ipython3",
   "version": "3.8.5"
  }
 },
 "nbformat": 4,
 "nbformat_minor": 4
}
